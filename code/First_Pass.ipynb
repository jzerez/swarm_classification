{
 "cells": [
  {
   "cell_type": "code",
   "execution_count": 1,
   "metadata": {},
   "outputs": [],
   "source": [
    "import numpy as np\n"
   ]
  },
  {
   "cell_type": "code",
   "execution_count": 86,
   "metadata": {},
   "outputs": [
    {
     "name": "stdout",
     "output_type": "stream",
     "text": [
      "[0.33333333 0.33333333 0.33333333]\n"
     ]
    }
   ],
   "source": [
    "pharamones = np.ones((9,3))/3\n",
    "print(pharamones[0])\n",
    "class Ant:\n",
    "    delta_p = .05\n",
    "    def __init__(self,pharamones):\n",
    "        \"\"\n",
    "        self.rule = []\n",
    "        self.pharamones = pharamones\n",
    "        self.decision = np.zeros((9,3))\n",
    "    def add_terms(self,attributes,options):\n",
    "        \"adds a term to the ruleset based on the pharamone trail and heuristic function\"\n",
    "        for i, j in enumerate(attributes):\n",
    "            print(i)\n",
    "            choice = np.random.choice(options, 1, p = self.pharamones[i])\n",
    "            choice = np.take(choice,0)\n",
    "            term = (i, '=', choice)\n",
    "            self.rule.append(term)\n",
    "            if choice == 'x':\n",
    "                self.decision[i,0] = 1\n",
    "                self.decision[i,1] = -.5\n",
    "                self.decision[i,2] = -.5\n",
    "            if choice == 'o':\n",
    "                self.decision[i,0] = -.5\n",
    "                self.decision[i,1] = 1\n",
    "                self.decision[i,2] = -.5\n",
    "            if choice == 'b':\n",
    "                self.decision[i,0] = -.5\n",
    "                self.decision[i,1] = -.5\n",
    "                self.decision[i,2] = 1\n",
    "    def prune_terms():\n",
    "        \"Removes rules that don't add to the overall effectiveness of the rule\"\n",
    "    \n",
    "    def update_pharamones(self):\n",
    "        \"Add pharamone to the paths that the ant took\"\n",
    "        deltas = self.decision*self.delta_p\n",
    "        self.pharamones = self.pharamones + deltas\n",
    "\n",
    "    "
   ]
  },
  {
   "cell_type": "code",
   "execution_count": null,
   "metadata": {},
   "outputs": [],
   "source": [
    "import os\n",
    "\n",
    "if not os.path.exists('tic-tac-toe.data'):\n",
    "    !wget https://github.com/jzerez/swarm_classification/blob/master/data/tic-tac-toe.data"
   ]
  },
  {
   "cell_type": "code",
   "execution_count": 92,
   "metadata": {},
   "outputs": [],
   "source": [
    "\"tic-tac-toe data import\"\n",
    "import os\n",
    "data = open('tic-tac-toe.data', 'r')\n",
    "data_listed = []\n",
    "#for i in range(0,957):\n",
    "#    entry = []\n",
    "#    for i in range(0,9):\n",
    "#        continue\n",
    "for i in data.readlines():\n",
    "    data_listed.append(i)\n",
    "attributes = list(range(0,9))\n",
    "options = ['x','o','b']\n"
   ]
  },
  {
   "cell_type": "code",
   "execution_count": 93,
   "metadata": {},
   "outputs": [
    {
     "name": "stdout",
     "output_type": "stream",
     "text": [
      "[]\n"
     ]
    }
   ],
   "source": [
    "a = Ant(pharamones)\n",
    "print(a.rule)"
   ]
  },
  {
   "cell_type": "code",
   "execution_count": 94,
   "metadata": {},
   "outputs": [
    {
     "name": "stdout",
     "output_type": "stream",
     "text": [
      "0\n",
      "1\n",
      "2\n",
      "3\n",
      "4\n",
      "5\n",
      "6\n",
      "7\n",
      "8\n",
      "[(0, '=', 'b'), (1, '=', 'b'), (2, '=', 'b'), (3, '=', 'x'), (4, '=', 'b'), (5, '=', 'b'), (6, '=', 'x'), (7, '=', 'x'), (8, '=', 'o')]\n",
      "0\n",
      "1\n",
      "2\n",
      "3\n",
      "4\n",
      "5\n",
      "6\n",
      "7\n",
      "8\n",
      "[(0, '=', 'o'), (1, '=', 'o'), (2, '=', 'o'), (3, '=', 'b'), (4, '=', 'b'), (5, '=', 'x'), (6, '=', 'o'), (7, '=', 'x'), (8, '=', 'b')]\n",
      "0\n",
      "1\n",
      "2\n",
      "3\n",
      "4\n",
      "5\n",
      "6\n",
      "7\n",
      "8\n",
      "[(0, '=', 'o'), (1, '=', 'b'), (2, '=', 'x'), (3, '=', 'o'), (4, '=', 'o'), (5, '=', 'x'), (6, '=', 'x'), (7, '=', 'x'), (8, '=', 'b')]\n",
      "0\n",
      "1\n",
      "2\n",
      "3\n",
      "4\n",
      "5\n",
      "6\n",
      "7\n",
      "8\n",
      "[(0, '=', 'b'), (1, '=', 'x'), (2, '=', 'b'), (3, '=', 'b'), (4, '=', 'x'), (5, '=', 'x'), (6, '=', 'o'), (7, '=', 'b'), (8, '=', 'b')]\n",
      "0\n",
      "1\n",
      "2\n",
      "3\n",
      "4\n",
      "5\n",
      "6\n",
      "7\n",
      "8\n",
      "[(0, '=', 'b'), (1, '=', 'o'), (2, '=', 'b'), (3, '=', 'x'), (4, '=', 'x'), (5, '=', 'x'), (6, '=', 'o'), (7, '=', 'o'), (8, '=', 'b')]\n",
      "0\n",
      "1\n",
      "2\n",
      "3\n",
      "4\n",
      "5\n",
      "6\n",
      "7\n",
      "8\n",
      "[(0, '=', 'b'), (1, '=', 'x'), (2, '=', 'x'), (3, '=', 'o'), (4, '=', 'b'), (5, '=', 'x'), (6, '=', 'b'), (7, '=', 'b'), (8, '=', 'x')]\n",
      "0\n",
      "1\n",
      "2\n",
      "3\n",
      "4\n",
      "5\n",
      "6\n",
      "7\n",
      "8\n",
      "[(0, '=', 'o'), (1, '=', 'x'), (2, '=', 'x'), (3, '=', 'x'), (4, '=', 'o'), (5, '=', 'x'), (6, '=', 'o'), (7, '=', 'x'), (8, '=', 'x')]\n",
      "0\n",
      "1\n",
      "2\n",
      "3\n",
      "4\n",
      "5\n",
      "6\n",
      "7\n",
      "8\n",
      "[(0, '=', 'b'), (1, '=', 'b'), (2, '=', 'b'), (3, '=', 'x'), (4, '=', 'b'), (5, '=', 'b'), (6, '=', 'x'), (7, '=', 'x'), (8, '=', 'o')]\n",
      "0\n",
      "1\n",
      "2\n",
      "3\n",
      "4\n",
      "5\n",
      "6\n",
      "7\n",
      "8\n",
      "[(0, '=', 'x'), (1, '=', 'o'), (2, '=', 'b'), (3, '=', 'x'), (4, '=', 'b'), (5, '=', 'x'), (6, '=', 'x'), (7, '=', 'o'), (8, '=', 'b')]\n"
     ]
    }
   ],
   "source": [
    "attributes = list(range(0,9))\n",
    "options = ['x','o','b']\n",
    "num_ants = 10\n",
    "ants = {}\n",
    "ants['ant0'] = Ant(pharamones)\n",
    "for i in range(1,num_ants):\n",
    "    ants[\"ant\" + str(i)] = Ant(ants[\"ant\" + str(i-1)].pharamones)\n",
    "    ants[\"ant\"+str(i)].add_terms(attributes,options)\n",
    "    print(ants['ant' +str(i)].rule)\n",
    "    ants[\"ant\"+str(i)].update_pharamones()"
   ]
  },
  {
   "cell_type": "code",
   "execution_count": 80,
   "metadata": {},
   "outputs": [
    {
     "name": "stdout",
     "output_type": "stream",
     "text": [
      "[(0, '=', 'o'), (1, '=', 'o'), (2, '=', 'o'), (3, '=', 'o'), (4, '=', 'o'), (5, '=', 'b'), (6, '=', 'b'), (7, '=', 'o'), (8, '=', 'x'), (0, '=', 'x'), (1, '=', 'x'), (2, '=', 'o'), (3, '=', 'x'), (4, '=', 'x'), (5, '=', 'b'), (6, '=', 'o'), (7, '=', 'o'), (8, '=', 'b'), (0, '=', 'b'), (1, '=', 'x'), (2, '=', 'x'), (3, '=', 'o'), (4, '=', 'o'), (5, '=', 'x'), (6, '=', 'o'), (7, '=', 'x'), (8, '=', 'b'), (0, '=', 'x'), (1, '=', 'b'), (2, '=', 'o'), (3, '=', 'o'), (4, '=', 'o'), (5, '=', 'o'), (6, '=', 'o'), (7, '=', 'b'), (8, '=', 'o'), (0, '=', 'o'), (1, '=', 'x'), (2, '=', 'x'), (3, '=', 'o'), (4, '=', 'x'), (5, '=', 'o'), (6, '=', 'x'), (7, '=', 'o'), (8, '=', 'x'), (0, '=', 'x'), (1, '=', 'x'), (2, '=', 'x'), (3, '=', 'b'), (4, '=', 'o'), (5, '=', 'b'), (6, '=', 'o'), (7, '=', 'b'), (8, '=', 'x'), (0, '=', 'b'), (1, '=', 'o'), (2, '=', 'o'), (3, '=', 'b'), (4, '=', 'x'), (5, '=', 'x'), (6, '=', 'o'), (7, '=', 'b'), (8, '=', 'b'), (0, '=', 'b'), (1, '=', 'b'), (2, '=', 'x'), (3, '=', 'b'), (4, '=', 'b'), (5, '=', 'x'), (6, '=', 'b'), (7, '=', 'x'), (8, '=', 'o'), (0, '=', 'b'), (1, '=', 'b'), (2, '=', 'o'), (3, '=', 'o'), (4, '=', 'x'), (5, '=', 'x'), (6, '=', 'x'), (7, '=', 'x'), (8, '=', 'o'), (0, '=', 'x'), (1, '=', 'b'), (2, '=', 'x'), (3, '=', 'b'), (4, '=', 'x'), (5, '=', 'o'), (6, '=', 'x'), (7, '=', 'b'), (8, '=', 'b'), (0, '=', 'o'), (1, '=', 'b'), (2, '=', 'x'), (3, '=', 'x'), (4, '=', 'o'), (5, '=', 'o'), (6, '=', 'b'), (7, '=', 'x'), (8, '=', 'b'), (0, '=', 'b'), (1, '=', 'o'), (2, '=', 'x'), (3, '=', 'b'), (4, '=', 'x'), (5, '=', 'x'), (6, '=', 'o'), (7, '=', 'x'), (8, '=', 'b'), (0, '=', 'o'), (1, '=', 'x'), (2, '=', 'b'), (3, '=', 'b'), (4, '=', 'o'), (5, '=', 'b'), (6, '=', 'o'), (7, '=', 'b'), (8, '=', 'b')]\n"
     ]
    }
   ],
   "source": [
    "print(ants[\"ant0\"].rule)"
   ]
  },
  {
   "cell_type": "code",
   "execution_count": null,
   "metadata": {},
   "outputs": [],
   "source": []
  }
 ],
 "metadata": {
  "kernelspec": {
   "display_name": "Python 3",
   "language": "python",
   "name": "python3"
  },
  "language_info": {
   "codemirror_mode": {
    "name": "ipython",
    "version": 3
   },
   "file_extension": ".py",
   "mimetype": "text/x-python",
   "name": "python",
   "nbconvert_exporter": "python",
   "pygments_lexer": "ipython3",
   "version": "3.7.5"
  }
 },
 "nbformat": 4,
 "nbformat_minor": 2
}
