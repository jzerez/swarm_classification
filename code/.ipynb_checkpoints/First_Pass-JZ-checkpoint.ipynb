{
 "cells": [
  {
   "cell_type": "code",
   "execution_count": 40,
   "metadata": {
    "collapsed": true
   },
   "outputs": [],
   "source": [
    "import numpy as np\n",
    "import matplotlib.pyplot as plt"
   ]
  },
  {
   "cell_type": "code",
   "execution_count": 110,
   "metadata": {},
   "outputs": [],
   "source": [
    "class Catagorization:\n",
    "    def __init__(self, num_ants, num_rules_converge, data, attributes, classes):\n",
    "        self.num_ants = num_ants\n",
    "        self.num_rules_converge = num_rules_converge\n",
    "        self.data = data\n",
    "        self.original_data = data.copy()\n",
    "        self.attributes = attributes\n",
    "\n",
    "        self.classes = classes\n",
    "        self.heuristic = self.calc_heuristic()\n",
    "        self.pharamones = self.init_pharamones()\n",
    "        self.discovered_rules = {}\n",
    "        self.qualities = []\n",
    "        self.leftover_cases = len(self.data) * 0.1\n",
    "        self.init_ants() \n",
    "        \n",
    "    def init_ants(self):\n",
    "        min_cases = round(len(self.original_data) * 0.05)\n",
    "        self.ants = [Ant(self.pharamones, self.heuristic, self.attributes, min_cases, self.classes) for i in range(self.num_ants)]\n",
    "        \n",
    "    def run_simulation(self):\n",
    "        while len(self.data) > self.leftover_cases:\n",
    "            self.converged_rules = 1\n",
    "            best_rule = []\n",
    "            best_quality = -1\n",
    "            consequent = None\n",
    "            \n",
    "            for j, ant in enumerate(self.ants):\n",
    "                self.run_one_ant(ant)\n",
    "                \n",
    "                    \n",
    "                if best_quality < 0 and set(self.ants[j-1].rule) == set(ant.rule) and ant.rule:\n",
    "                    self.converged_rules += 1\n",
    "                else:\n",
    "                    self.converged_rules = 1\n",
    "                if self.converged_rules == self.num_rules_converge:\n",
    "                    print('rules have converged')\n",
    "                    break\n",
    "                if ant.quality > best_quality:\n",
    "                    best_quality = ant.quality\n",
    "                    best_rule = ant.rule\n",
    "                    consequent = ant.consequent\n",
    "            n = self.remove_relevant_cases(best_rule, consequent)\n",
    "            print(len(self.data))\n",
    "            res = self.discovered_rules.get(consequent, [])\n",
    "            res.append((best_rule, best_quality, n))\n",
    "            self.discovered_rules[consequent] = res\n",
    "            self.pharamones = self.init_pharamones()\n",
    "            self.init_ants()\n",
    "        print('simulation done. Remaining cases: ', len(self.data))\n",
    "            \n",
    "    def run_one_ant(self, ant):\n",
    "        ant.pharamones = self.pharamones\n",
    "        ant.add_terms(self.data)\n",
    "        q = self.prune_ant(ant)\n",
    "        consequent = self.calc_consequent(ant.rule)\n",
    "        self.update_pharamones(ant.rule, q)\n",
    "        ant.quality = q\n",
    "        ant.consequent = consequent\n",
    "        \n",
    "    def calc_heuristic(self):\n",
    "        total_num = len(self.classes)\n",
    "        for attribute in self.attributes.keys():\n",
    "            total_num *= len(self.attributes[attribute])\n",
    "            \n",
    "#         total_num = len(self.attributes.keys())*len(self.attributes.values())*len(self.classes)\n",
    "        probs = {}\n",
    "        heuristic = {}\n",
    "        for index, i in enumerate(self.attributes.keys()):\n",
    "            for j in self.attributes[i]:\n",
    "                for k in self.classes:\n",
    "                    a = [game for game in self.data if k == game[-1]]\n",
    "                    b = [game for game in a if j == game[index]]\n",
    "                    p = len(b)/len(self.data)\n",
    "                    c = probs.get((index,j),[])\n",
    "                    c.append(np.log2(p**p))\n",
    "                    probs[(index,j)] = c\n",
    "                heuristic[(index,j)] = -sum(probs[(index,j)])\n",
    "        return heuristic\n",
    "\n",
    "    def pick_best_rule(self):\n",
    "        most_correct = 0\n",
    "        best_ant = None\n",
    "        for ant in self.ants:\n",
    "            consequence, num_correct = self.calc_num_correct(ant.rule)\n",
    "            ant.consequence = consequence\n",
    "            if num_correct > most_correct:\n",
    "                most_correct = num_correct\n",
    "                best_ant = ant\n",
    "        return most_correct, best_ant\n",
    "    \n",
    "    def find_relevant_cases(self, rule):\n",
    "        relevant_cases = self.data.copy()\n",
    "        for case in self.data:\n",
    "            for term in rule:\n",
    "                if case[term[0]] != term[1]:\n",
    "                    relevant_cases.remove(case)\n",
    "                    break\n",
    "        return relevant_cases\n",
    "    \n",
    "    def remove_relevant_cases(self, rule, consequent):\n",
    "        relevant_cases = self.find_relevant_cases(rule)\n",
    "        count = 0\n",
    "        for case in relevant_cases:\n",
    "            if case[-1] == consequent:\n",
    "                self.data.remove(case)\n",
    "                count += 1\n",
    "        return count\n",
    "    def calc_consequent(self, rule):\n",
    "        relevant_cases = self.find_relevant_cases(rule)\n",
    "        classes = {}\n",
    "        if not relevant_cases:\n",
    "            relevant_cases = self.data\n",
    "            \n",
    "        for case in relevant_cases:\n",
    "            classes[str(case[-1])] = classes.get(str(case[-1]), 0) + 1\n",
    "        res = max(classes, key=classes.get)\n",
    "        return res\n",
    "    \n",
    "    def prune_ant(self, ant):\n",
    "        \"\"\"Iteratively goes through the rulelist for an ant and sees which rules are not helping the quality of the rule\"\"\"\n",
    "        n = len(ant.rule)\n",
    "        if n == 0:\n",
    "            return 0\n",
    "        for iteration in range(n):\n",
    "            max_delta_quality = 0\n",
    "            best_new_rule = ant.rule\n",
    "            consequent = self.calc_consequent(ant.rule)\n",
    "            base_quality = self.calc_quality(ant.rule, consequent)\n",
    "            \n",
    "            for i, term in enumerate(ant.rule):\n",
    "                new_rule = ant.rule[0:i] + ant.rule[i+1:]\n",
    "                new_consequent = self.calc_consequent(new_rule)\n",
    "                new_quality = self.calc_quality(new_rule, new_consequent)\n",
    "                if max_delta_quality <= new_quality - base_quality:\n",
    "                    max_delta_quality = new_quality - base_quality\n",
    "                    best_new_rule = new_rule\n",
    "            if max_delta_quality >= 0:\n",
    "                if best_new_rule:\n",
    "                    ant.rule = best_new_rule\n",
    "                    max_delta_quality = 0\n",
    "            else:\n",
    "                break\n",
    "        return max_delta_quality + base_quality\n",
    "        \n",
    "    def calc_quality(self, rule, consequent):\n",
    "        relevant_cases = self.find_relevant_cases(rule)\n",
    "        num_cases_covered = len(relevant_cases)\n",
    "        num_cases_not_covered = len(self.data) - len(relevant_cases)\n",
    "        \n",
    "        true_positives = len([case for case in relevant_cases if case[-1] == consequent])\n",
    "        false_positives = len(relevant_cases) - true_positives\n",
    "        false_negatives = len([case for case in self.data if case not in relevant_cases and case[-1] == consequent])\n",
    "        true_negatives = len(self.data) - len(relevant_cases) - false_negatives\n",
    "        \n",
    "        sensitivity = true_positives / (true_positives + false_negatives)\n",
    "        if true_negatives == 0: return 0\n",
    "        specificity = true_negatives / (true_negatives + false_positives)\n",
    "        \n",
    "        return sensitivity * specificity\n",
    "        \n",
    "    def run_sim(self):\n",
    "        ants = {}\n",
    "        ants['ant0'] = Ant(pharamones)\n",
    "        for i in range(self.num_ants):\n",
    "            ants[\"ant\" + str(i)] = Ant(ants[\"ant\" + str(i-1)].pharamones)\n",
    "            \n",
    "    def init_pharamones(self):\n",
    "        pharamones = {}\n",
    "        total = 0\n",
    "        for attribute in self.attributes.keys():\n",
    "            total += len(self.attributes[attribute])\n",
    "            \n",
    "        initial_value = 1/total\n",
    "        for index, i in enumerate(self.attributes.keys()):\n",
    "            for j in self.attributes[i]:\n",
    "                pharamones[(index,j)] = initial_value\n",
    "        return pharamones\n",
    "    \n",
    "    def update_pharamones(self, rule, quality):\n",
    "        for term in rule:\n",
    "            self.pharamones[(term[0], term[1])] += quality\n",
    "        normalization_factor = sum(self.pharamones.values())\n",
    "        keys = self.pharamones.keys()\n",
    "        for key in keys:\n",
    "            self.pharamones[key] /= normalization_factor\n",
    "        \n",
    "        assert(sum(self.pharamones.values()) - 1 < 0.0001)\n",
    "        \n",
    "    def evaluate_discovered_rules(self, data):\n",
    "        num_correct = 0\n",
    "        num_total = len(data)\n",
    "        self.data = data\n",
    "        for consequent in self.discovered_rules.keys():\n",
    "            rules = self.discovered_rules[consequent]\n",
    "            for rule in rules:\n",
    "#                 print(rule[0])\n",
    "#                 print(consequent)\n",
    "#                 relevant_cases = self.find_relevant_cases(rule[0])\n",
    "#                 print(relevant_cases)\n",
    "#                 num_correct += len([case for case in relevant_cases if case[-1] == consequent])\n",
    "                num_correct += self.remove_relevant_cases(rule[0], consequent)\n",
    "        return num_correct / num_total"
   ]
  },
  {
   "cell_type": "code",
   "execution_count": 111,
   "metadata": {
    "collapsed": true
   },
   "outputs": [],
   "source": [
    "class Ant:\n",
    "    delta_p = .05\n",
    "    def __init__(self,pharamones, heuristic, attributes, min_cases_per_rule, classes):\n",
    "        \"\"\n",
    "        self.rule = []\n",
    "        self.pharamones = pharamones\n",
    "        self.heuristic = heuristic\n",
    "        self.decision = np.zeros((9,3))\n",
    "        self.k = 2\n",
    "        self.classes = classes\n",
    "        self.attributes = attributes\n",
    "        self.min_cases_per_rule = min_cases_per_rule\n",
    "        self.used_attributes = []\n",
    "        \n",
    "    def add_terms(self, data):\n",
    "        \"adds a term to the ruleset based on the pharamone trail and heuristic function\"\n",
    "        quit = False\n",
    "        tries = 0\n",
    "        for i in self.attributes.keys():\n",
    "            probs = self.calc_prob()\n",
    "#             print('probs are: ', probs)\n",
    "#             print('')\n",
    "            picking = True\n",
    "            while picking:\n",
    "                term = self.pick_term(probs)\n",
    "                if len(self.find_relevant_cases(self.rule+[term], data)) > self.min_cases_per_rule:\n",
    "                    if term[0] not in self.used_attributes:\n",
    "                        self.used_attributes.append(term[0])\n",
    "                        picking = False\n",
    "                else:\n",
    "                    tries += 1\n",
    "                if tries > 10 and self.rule:\n",
    "                    picking = False\n",
    "                    quit = True\n",
    "                    \n",
    "            if not quit:\n",
    "                self.rule.append(term)\n",
    "            else:\n",
    "                break\n",
    "    def normalize(self, function):\n",
    "        norm = {}\n",
    "        for index, i in enumerate(self.attributes.keys()):\n",
    "            for j in self.attributes[i]:\n",
    "                num = function(index, j)\n",
    "                if num == 0:\n",
    "                    norm[(index,j)] = 0\n",
    "                    continue\n",
    "                unused_attributes = len(self.attributes.keys())-len(self.rule)\n",
    "                normalization_factor = 0\n",
    "                for jj in self.attributes[i]:\n",
    "                    normalization_factor += function(index, jj)\n",
    "                norm[(index,j)] = num / (unused_attributes * normalization_factor)\n",
    "        return norm\n",
    "        \n",
    "    def normalize_heuristic(self):\n",
    "        def f(i, j):\n",
    "            return np.log2(self.k) - self.heuristic[(i,j)]\n",
    "        return self.normalize(f)\n",
    "    \n",
    "    def calc_prob(self):\n",
    "        self.normalized_heuristic = self.normalize_heuristic()\n",
    "        def f(i, j):\n",
    "            if i not in self.used_attributes:\n",
    "                return self.pharamones[(i,j)] * self.normalized_heuristic[(i,j)]\n",
    "            else:\n",
    "                return 0\n",
    "        return self.normalize(f)\n",
    "    \n",
    "    def pick_term(self, probs):\n",
    "        index = np.random.choice(len(probs), 1, p = list(probs.values()))\n",
    "        index = index[0]\n",
    "        term = list(probs.keys())[index]\n",
    "        return term\n",
    "    \n",
    "    def find_relevant_cases(self, rule, data):\n",
    "        relevant_cases = data.copy()\n",
    "        for case in data:\n",
    "            for term in rule:\n",
    "                if case[term[0]] != term[1]:\n",
    "                    relevant_cases.remove(case)\n",
    "                    break\n",
    "        return relevant_cases\n"
   ]
  },
  {
   "cell_type": "code",
   "execution_count": 112,
   "metadata": {},
   "outputs": [],
   "source": [
    "import os\n",
    "import string\n",
    "def get_train_and_test_from_file(file, special = False):\n",
    "    data = open(file, 'r')\n",
    "    data_listed = []\n",
    "\n",
    "    for i in data.readlines():\n",
    "        if not special:\n",
    "            data_listed.append(tuple(str.split(i[:-1], ',')))\n",
    "        else:\n",
    "            line = str.split(i[:-1], ',')\n",
    "            c = line.pop(0)\n",
    "            line.append(c)\n",
    "            data_listed.append(tuple(line))\n",
    "    n=len(data_listed)\n",
    "    train_ind = np.random.choice(n, round(n*0.8), replace=False)\n",
    "    train = [data_listed[index] for index in train_ind]\n",
    "    test = [case for case in data_listed if case not in train]\n",
    "    return train, test\n",
    "\n",
    "                        "
   ]
  },
  {
   "cell_type": "code",
   "execution_count": 107,
   "metadata": {
    "scrolled": true
   },
   "outputs": [
    {
     "name": "stdout",
     "output_type": "stream",
     "text": [
      "611\n",
      "373\n",
      "242\n",
      "180\n",
      "112\n",
      "40\n",
      "simulation done. Remaining cases:  40\n",
      "{'negative': [([(4, 'o')], 0.4420826672070733, 155), ([(4, 'x')], 0, 72)], 'positive': [([(2, 'x')], 0.33642284569138275, 238), ([(6, 'x')], 0.3450670498084291, 131), ([(2, 'b'), (4, 'x')], 0.43434065934065935, 62), ([(4, 'x'), (2, 'o')], 0.6428571428571429, 68)]}\n"
     ]
    },
    {
     "data": {
      "text/plain": [
       "0.9583333333333334"
      ]
     },
     "execution_count": 107,
     "metadata": {},
     "output_type": "execute_result"
    }
   ],
   "source": [
    "import numpy as np\n",
    "train, test = get_train_and_test_from_file('../data/tic-tac-toe.data')\n",
    "attributes = {}\n",
    "for i in range(9):\n",
    "    attributes[i] = ['x','o','b']\n",
    "\n",
    "classes = ['positive', 'negative']\n",
    "\n",
    "s = Catagorization(100, 10, train, attributes, classes)\n",
    "s.run_simulation()\n",
    "print(s.discovered_rules)\n",
    "s.evaluate_discovered_rules(test)"
   ]
  },
  {
   "cell_type": "code",
   "execution_count": 113,
   "metadata": {
    "scrolled": true
   },
   "outputs": [
    {
     "name": "stdout",
     "output_type": "stream",
     "text": [
      "116\n",
      "71\n",
      "54\n",
      "37\n",
      "25\n",
      "15\n",
      "simulation done. Remaining cases:  15\n"
     ]
    }
   ],
   "source": [
    "train, test = get_train_and_test_from_file('../data/breast-cancer.data', True)\n",
    "\n",
    "\n",
    "attributes = {}\n",
    "attribute_list = ['age', 'menopause', 'tumor-size', 'inv-nodes', 'node-caps', 'deg-malig', 'breast', 'breast-quad', 'irradiat']\n",
    "\n",
    "attributes['age'] = ('10-19',' 20-29', '30-39', '40-49', '50-59', '60-69', '70-79', '80-89', '90-99')\n",
    "attributes['menopause'] = ('lt40', 'ge40', 'premeno')\n",
    "attributes['tumor-size'] = ('0-4', '5-9', '10-14', '15-19', '20-24', '25-29', '30-34', '35-39', '40-44','45-49', '50-54', '55-59')\n",
    "attributes['inv-nodes'] = ('0-2', '3-5', '6-8', '9-11', '12-14', '15-17', '18-20', '21-23', '24-26', '27-29', '30-32', '33-35', '36-39')\n",
    "attributes['node-caps'] = ('yes', 'no')\n",
    "attributes['deg-malig'] = (1,2,3)\n",
    "attributes['breast'] = ('left', 'right')\n",
    "attributes['breast-quad'] = ('left-up', 'left-low', 'right-up', 'right-low', 'central')\n",
    "attributes['irradiat'] = ('yes', 'no')\n",
    "\n",
    "classes = ['no-recurrence-events', 'recurrence-events']\n",
    "\n",
    "s = Catagorization(100, 10, train, attributes, classes)\n",
    "s.run_simulation()\n",
    "print(s.discovered_rules)\n",
    "s.evaluate_discovered_rules(test)"
   ]
  },
  {
   "cell_type": "code",
   "execution_count": 114,
   "metadata": {},
   "outputs": [
    {
     "name": "stdout",
     "output_type": "stream",
     "text": [
      "{'no-recurrence-events': [([(4, 'no'), (3, '0-2'), (8, 'no')], 0.46336245320021396, 113), ([(6, 'left')], 0.37777777777777777, 17), ([(3, '3-5')], 0.3333333333333333, 12), ([(1, 'premeno')], 0.2777777777777778, 10)], 'recurrence-events': [([(8, 'no')], 0.4225352112676056, 45), ([(6, 'left'), (8, 'yes')], 0.5085470085470085, 17)]}\n"
     ]
    },
    {
     "data": {
      "text/plain": [
       "0.9615384615384616"
      ]
     },
     "execution_count": 114,
     "metadata": {},
     "output_type": "execute_result"
    }
   ],
   "source": [
    "print(s.discovered_rules)\n",
    "s.evaluate_discovered_rules(test)"
   ]
  },
  {
   "cell_type": "code",
   "execution_count": 153,
   "metadata": {},
   "outputs": [],
   "source": [
    "b = {'a': 4, 'b':3, 'c':19}\n",
    "sum(b.values())\n",
    "b['b'] /= 3\n",
    "b\n",
    "c=b.get(44, [])\n",
    "c.append(3)"
   ]
  },
  {
   "cell_type": "code",
   "execution_count": 9,
   "metadata": {},
   "outputs": [
    {
     "data": {
      "text/plain": [
       "'1'"
      ]
     },
     "execution_count": 9,
     "metadata": {},
     "output_type": "execute_result"
    }
   ],
   "source": [
    "a = '1. Class: no-recurrence-events, recurrence-events'.split()\n",
    "a[0].translate(str.maketrans('', '', string.punctuation))"
   ]
  },
  {
   "cell_type": "code",
   "execution_count": 78,
   "metadata": {},
   "outputs": [
    {
     "data": {
      "text/plain": [
       "1"
      ]
     },
     "execution_count": 78,
     "metadata": {},
     "output_type": "execute_result"
    }
   ],
   "source": [
    "a = [1,2,3,4,5]\n",
    "a.pop(0)"
   ]
  },
  {
   "cell_type": "code",
   "execution_count": null,
   "metadata": {
    "collapsed": true
   },
   "outputs": [],
   "source": []
  }
 ],
 "metadata": {
  "kernelspec": {
   "display_name": "Python 3",
   "language": "python",
   "name": "python3"
  },
  "language_info": {
   "codemirror_mode": {
    "name": "ipython",
    "version": 3
   },
   "file_extension": ".py",
   "mimetype": "text/x-python",
   "name": "python",
   "nbconvert_exporter": "python",
   "pygments_lexer": "ipython3",
   "version": "3.6.2"
  }
 },
 "nbformat": 4,
 "nbformat_minor": 2
}
