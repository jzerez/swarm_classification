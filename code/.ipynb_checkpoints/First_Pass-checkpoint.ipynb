{
 "cells": [
  {
   "cell_type": "code",
   "execution_count": 1,
   "metadata": {},
   "outputs": [],
   "source": [
    "import numpy as np\n"
   ]
  },
  {
   "cell_type": "code",
   "execution_count": 50,
   "metadata": {},
   "outputs": [
    {
     "name": "stdout",
     "output_type": "stream",
     "text": [
      "[0.33333333 0.33333333 0.33333333]\n"
     ]
    }
   ],
   "source": [
    "pharamones = np.ones((9,3))/3\n",
    "print(pharamones[0])\n",
    "class Ant:\n",
    "    delta_p = .05\n",
    "    def __init__(self,pharamones):\n",
    "        \"\"\n",
    "        self.rule = []\n",
    "        self.pharamones = pharamones\n",
    "        self.decision = np.zeros((9,3))\n",
    "        self.k = 2\n",
    "    def add_terms(self,attributes,options,heuristic):\n",
    "        \"adds a term to the ruleset based on the pharamone trail and heuristic function\"\n",
    "        for i, j in enumerate(attributes):\n",
    "            #heuristic_norm = (numpy.log2(self.k)-)\n",
    "            probs = (heuristic * pharamones)/((len(attributes)-len(rules))*sum([heuristic[i] * pharamones[i] for i in range(len(options))]))\n",
    "            choice = np.random.choice(options, 1, p = self.pharamones[i])\n",
    "            choice = np.take(choice,0)\n",
    "            term = (i, '=', choice)\n",
    "            self.rule.append(term)\n",
    "            if choice == 'x':\n",
    "                self.decision[i,0] = 1\n",
    "                self.decision[i,1] = -.5\n",
    "                self.decision[i,2] = -.5\n",
    "            if choice == 'o':\n",
    "                self.decision[i,0] = -.5\n",
    "                self.decision[i,1] = 1\n",
    "                self.decision[i,2] = -.5\n",
    "            if choice == 'b':\n",
    "                self.decision[i,0] = -.5\n",
    "                self.decision[i,1] = -.5\n",
    "                self.decision[i,2] = 1\n",
    "    \n",
    "    def prune_terms():\n",
    "        \"Removes rules that don't add to the overall effectiveness of the rule\"\n",
    "    def calc_heuristic(self,attributes, options, classes):\n",
    "        total_num = len(attributes)*(len(options))*len(classes)\n",
    "        probs = {}\n",
    "        heuristic = {}\n",
    "        for i in attributes:\n",
    "            for j in options:\n",
    "                for k in classes:\n",
    "                    a = [game for game in data_listed if k == game[-1]]\n",
    "                    b = [game for game in a if j == game[i]]\n",
    "                    p = len(b)/total_num\n",
    "                    c = probs.get((i,j),[]) \n",
    "                    c.append(np.log2(p**p))\n",
    "                    probs[(i,j)] = c\n",
    "                heuristic[(i,j)] = -sum(probs[(i,j)])\n",
    "        return heuristic\n",
    "                \n",
    "    def update_pharamones(self):\n",
    "        \"Add pharamone to the paths that the ant took\"\n",
    "        deltas = self.decision*self.delta_p\n",
    "        self.pharamones = self.pharamones + deltas\n",
    "\n",
    "    "
   ]
  },
  {
   "cell_type": "code",
   "execution_count": 40,
   "metadata": {},
   "outputs": [
    {
     "ename": "IndentationError",
     "evalue": "unexpected indent (<ipython-input-40-ba2d9b0e5bb6>, line 4)",
     "output_type": "error",
     "traceback": [
      "\u001b[1;36m  File \u001b[1;32m\"<ipython-input-40-ba2d9b0e5bb6>\"\u001b[1;36m, line \u001b[1;32m4\u001b[0m\n\u001b[1;33m    get_ipython().system('wget https://github.com/jzerez/swarm_classification/blob/master/data/tic-tac-toe.data')\u001b[0m\n\u001b[1;37m    ^\u001b[0m\n\u001b[1;31mIndentationError\u001b[0m\u001b[1;31m:\u001b[0m unexpected indent\n"
     ]
    }
   ],
   "source": [
    "#import os\n",
    "\n",
    "#if not os.path.exists('tic-tac-toe.data'):\n",
    "    !wget https://github.com/jzerez/swarm_classification/blob/master/data/tic-tac-toe.data"
   ]
  },
  {
   "cell_type": "code",
   "execution_count": 28,
   "metadata": {},
   "outputs": [
    {
     "name": "stdout",
     "output_type": "stream",
     "text": [
      "[['x', 'x', 'x', 'x', 'o', 'o', 'x', 'o', 'o', 'positive'], ['x', 'x', 'x', 'x', 'o', 'o', 'o', 'x', 'o', 'positive'], ['x', 'x', 'x', 'x', 'o', 'o', 'o', 'o', 'x', 'positive'], ['x', 'x', 'x', 'x', 'o', 'o', 'o', 'b', 'b', 'positive'], ['x', 'x', 'x', 'x', 'o', 'o', 'b', 'o', 'b', 'positive'], ['x', 'x', 'x', 'x', 'o', 'o', 'b', 'b', 'o', 'positive'], ['x', 'x', 'x', 'x', 'o', 'b', 'o', 'o', 'b', 'positive'], ['x', 'x', 'x', 'x', 'o', 'b', 'o', 'b', 'o', 'positive'], ['x', 'x', 'x', 'x', 'o', 'b', 'b', 'o', 'o', 'positive'], ['x', 'x', 'x', 'x', 'b', 'o', 'o', 'o', 'b', 'positive'], ['x', 'x', 'x', 'x', 'b', 'o', 'o', 'b', 'o', 'positive'], ['x', 'x', 'x', 'x', 'b', 'o', 'b', 'o', 'o', 'positive'], ['x', 'x', 'x', 'o', 'x', 'o', 'x', 'o', 'o', 'positive'], ['x', 'x', 'x', 'o', 'x', 'o', 'o', 'x', 'o', 'positive'], ['x', 'x', 'x', 'o', 'x', 'o', 'o', 'o', 'x', 'positive'], ['x', 'x', 'x', 'o', 'x', 'o', 'o', 'b', 'b', 'positive'], ['x', 'x', 'x', 'o', 'x', 'o', 'b', 'o', 'b', 'positive'], ['x', 'x', 'x', 'o', 'x', 'o', 'b', 'b', 'o', 'positive'], ['x', 'x', 'x', 'o', 'x', 'b', 'o', 'o', 'b', 'positive'], ['x', 'x', 'x', 'o', 'x', 'b', 'o', 'b', 'o', 'positive'], ['x', 'x', 'x', 'o', 'x', 'b', 'b', 'o', 'o', 'positive'], ['x', 'x', 'x', 'o', 'o', 'x', 'x', 'o', 'o', 'positive'], ['x', 'x', 'x', 'o', 'o', 'x', 'o', 'x', 'o', 'positive'], ['x', 'x', 'x', 'o', 'o', 'x', 'o', 'o', 'x', 'positive'], ['x', 'x', 'x', 'o', 'o', 'x', 'o', 'b', 'b', 'positive'], ['x', 'x', 'x', 'o', 'o', 'x', 'b', 'o', 'b', 'positive'], ['x', 'x', 'x', 'o', 'o', 'x', 'b', 'b', 'o', 'positive'], ['x', 'x', 'x', 'o', 'o', 'b', 'x', 'o', 'b', 'positive'], ['x', 'x', 'x', 'o', 'o', 'b', 'x', 'b', 'o', 'positive'], ['x', 'x', 'x', 'o', 'o', 'b', 'o', 'x', 'b', 'positive'], ['x', 'x', 'x', 'o', 'o', 'b', 'o', 'b', 'x', 'positive'], ['x', 'x', 'x', 'o', 'o', 'b', 'b', 'x', 'o', 'positive'], ['x', 'x', 'x', 'o', 'o', 'b', 'b', 'o', 'x', 'positive'], ['x', 'x', 'x', 'o', 'o', 'b', 'b', 'b', 'b', 'positive'], ['x', 'x', 'x', 'o', 'b', 'x', 'o', 'o', 'b', 'positive'], ['x', 'x', 'x', 'o', 'b', 'x', 'o', 'b', 'o', 'positive'], ['x', 'x', 'x', 'o', 'b', 'x', 'b', 'o', 'o', 'positive'], ['x', 'x', 'x', 'o', 'b', 'o', 'x', 'o', 'b', 'positive'], ['x', 'x', 'x', 'o', 'b', 'o', 'x', 'b', 'o', 'positive'], ['x', 'x', 'x', 'o', 'b', 'o', 'o', 'x', 'b', 'positive'], ['x', 'x', 'x', 'o', 'b', 'o', 'o', 'b', 'x', 'positive'], ['x', 'x', 'x', 'o', 'b', 'o', 'b', 'x', 'o', 'positive'], ['x', 'x', 'x', 'o', 'b', 'o', 'b', 'o', 'x', 'positive'], ['x', 'x', 'x', 'o', 'b', 'o', 'b', 'b', 'b', 'positive'], ['x', 'x', 'x', 'o', 'b', 'b', 'x', 'o', 'o', 'positive'], ['x', 'x', 'x', 'o', 'b', 'b', 'o', 'x', 'o', 'positive'], ['x', 'x', 'x', 'o', 'b', 'b', 'o', 'o', 'x', 'positive'], ['x', 'x', 'x', 'o', 'b', 'b', 'o', 'b', 'b', 'positive'], ['x', 'x', 'x', 'o', 'b', 'b', 'b', 'o', 'b', 'positive'], ['x', 'x', 'x', 'o', 'b', 'b', 'b', 'b', 'o', 'positive'], ['x', 'x', 'x', 'b', 'x', 'o', 'o', 'o', 'b', 'positive'], ['x', 'x', 'x', 'b', 'x', 'o', 'o', 'b', 'o', 'positive'], ['x', 'x', 'x', 'b', 'x', 'o', 'b', 'o', 'o', 'positive'], ['x', 'x', 'x', 'b', 'o', 'x', 'o', 'o', 'b', 'positive'], ['x', 'x', 'x', 'b', 'o', 'x', 'o', 'b', 'o', 'positive'], ['x', 'x', 'x', 'b', 'o', 'x', 'b', 'o', 'o', 'positive'], ['x', 'x', 'x', 'b', 'o', 'o', 'x', 'o', 'b', 'positive'], ['x', 'x', 'x', 'b', 'o', 'o', 'x', 'b', 'o', 'positive'], ['x', 'x', 'x', 'b', 'o', 'o', 'o', 'x', 'b', 'positive'], ['x', 'x', 'x', 'b', 'o', 'o', 'o', 'b', 'x', 'positive'], ['x', 'x', 'x', 'b', 'o', 'o', 'b', 'x', 'o', 'positive'], ['x', 'x', 'x', 'b', 'o', 'o', 'b', 'o', 'x', 'positive'], ['x', 'x', 'x', 'b', 'o', 'o', 'b', 'b', 'b', 'positive'], ['x', 'x', 'x', 'b', 'o', 'b', 'x', 'o', 'o', 'positive'], ['x', 'x', 'x', 'b', 'o', 'b', 'o', 'x', 'o', 'positive'], ['x', 'x', 'x', 'b', 'o', 'b', 'o', 'o', 'x', 'positive'], ['x', 'x', 'x', 'b', 'o', 'b', 'o', 'b', 'b', 'positive'], ['x', 'x', 'x', 'b', 'o', 'b', 'b', 'o', 'b', 'positive'], ['x', 'x', 'x', 'b', 'o', 'b', 'b', 'b', 'o', 'positive'], ['x', 'x', 'x', 'b', 'b', 'o', 'x', 'o', 'o', 'positive'], ['x', 'x', 'x', 'b', 'b', 'o', 'o', 'x', 'o', 'positive'], ['x', 'x', 'x', 'b', 'b', 'o', 'o', 'o', 'x', 'positive'], ['x', 'x', 'x', 'b', 'b', 'o', 'o', 'b', 'b', 'positive'], ['x', 'x', 'x', 'b', 'b', 'o', 'b', 'o', 'b', 'positive'], ['x', 'x', 'x', 'b', 'b', 'o', 'b', 'b', 'o', 'positive'], ['x', 'x', 'x', 'b', 'b', 'b', 'o', 'o', 'b', 'positive'], ['x', 'x', 'x', 'b', 'b', 'b', 'o', 'b', 'o', 'positive'], ['x', 'x', 'x', 'b', 'b', 'b', 'b', 'o', 'o', 'positive'], ['x', 'x', 'o', 'x', 'x', 'o', 'o', 'o', 'x', 'positive'], ['x', 'x', 'o', 'x', 'o', 'x', 'x', 'o', 'o', 'positive'], ['x', 'x', 'o', 'x', 'o', 'o', 'x', 'o', 'x', 'positive'], ['x', 'x', 'o', 'x', 'o', 'o', 'x', 'b', 'b', 'positive'], ['x', 'x', 'o', 'x', 'o', 'b', 'x', 'o', 'b', 'positive'], ['x', 'x', 'o', 'x', 'o', 'b', 'x', 'b', 'o', 'positive'], ['x', 'x', 'o', 'x', 'b', 'o', 'x', 'o', 'b', 'positive'], ['x', 'x', 'o', 'x', 'b', 'b', 'x', 'o', 'o', 'positive'], ['x', 'x', 'o', 'o', 'x', 'x', 'o', 'x', 'o', 'positive'], ['x', 'x', 'o', 'o', 'x', 'x', 'o', 'o', 'x', 'positive'], ['x', 'x', 'o', 'o', 'x', 'o', 'x', 'o', 'x', 'positive'], ['x', 'x', 'o', 'o', 'x', 'o', 'o', 'x', 'x', 'positive'], ['x', 'x', 'o', 'o', 'x', 'o', 'b', 'x', 'b', 'positive'], ['x', 'x', 'o', 'o', 'x', 'o', 'b', 'b', 'x', 'positive'], ['x', 'x', 'o', 'o', 'x', 'b', 'o', 'x', 'b', 'positive'], ['x', 'x', 'o', 'o', 'x', 'b', 'o', 'b', 'x', 'positive'], ['x', 'x', 'o', 'o', 'x', 'b', 'b', 'x', 'o', 'positive'], ['x', 'x', 'o', 'o', 'x', 'b', 'b', 'o', 'x', 'positive'], ['x', 'x', 'o', 'b', 'x', 'o', 'o', 'x', 'b', 'positive'], ['x', 'x', 'o', 'b', 'x', 'o', 'o', 'b', 'x', 'positive'], ['x', 'x', 'o', 'b', 'x', 'o', 'b', 'o', 'x', 'positive'], ['x', 'x', 'o', 'b', 'x', 'b', 'o', 'x', 'o', 'positive'], ['x', 'x', 'o', 'b', 'x', 'b', 'o', 'o', 'x', 'positive'], ['x', 'x', 'b', 'x', 'o', 'o', 'x', 'o', 'b', 'positive'], ['x', 'x', 'b', 'x', 'o', 'o', 'x', 'b', 'o', 'positive'], ['x', 'x', 'b', 'x', 'o', 'b', 'x', 'o', 'o', 'positive'], ['x', 'x', 'b', 'x', 'b', 'o', 'x', 'o', 'o', 'positive'], ['x', 'x', 'b', 'o', 'x', 'o', 'o', 'x', 'b', 'positive'], ['x', 'x', 'b', 'o', 'x', 'o', 'o', 'b', 'x', 'positive'], ['x', 'x', 'b', 'o', 'x', 'o', 'b', 'x', 'o', 'positive'], ['x', 'x', 'b', 'o', 'x', 'o', 'b', 'o', 'x', 'positive'], ['x', 'x', 'b', 'o', 'x', 'b', 'o', 'x', 'o', 'positive'], ['x', 'x', 'b', 'o', 'x', 'b', 'o', 'o', 'x', 'positive'], ['x', 'x', 'b', 'b', 'x', 'o', 'o', 'x', 'o', 'positive'], ['x', 'x', 'b', 'b', 'x', 'o', 'o', 'o', 'x', 'positive'], ['x', 'o', 'x', 'x', 'x', 'o', 'x', 'o', 'o', 'positive'], ['x', 'o', 'x', 'x', 'x', 'o', 'o', 'o', 'x', 'positive'], ['x', 'o', 'x', 'x', 'o', 'o', 'x', 'x', 'o', 'positive'], ['x', 'o', 'x', 'x', 'o', 'o', 'x', 'b', 'b', 'positive'], ['x', 'o', 'x', 'x', 'o', 'b', 'x', 'b', 'o', 'positive'], ['x', 'o', 'x', 'x', 'b', 'o', 'x', 'o', 'b', 'positive'], ['x', 'o', 'x', 'x', 'b', 'o', 'x', 'b', 'o', 'positive'], ['x', 'o', 'x', 'x', 'b', 'b', 'x', 'o', 'o', 'positive'], ['x', 'o', 'x', 'o', 'x', 'x', 'x', 'o', 'o', 'positive'], ['x', 'o', 'x', 'o', 'x', 'x', 'o', 'o', 'x', 'positive'], ['x', 'o', 'x', 'o', 'x', 'o', 'x', 'x', 'o', 'positive'], ['x', 'o', 'x', 'o', 'x', 'o', 'x', 'o', 'x', 'positive'], ['x', 'o', 'x', 'o', 'x', 'o', 'x', 'b', 'b', 'positive'], ['x', 'o', 'x', 'o', 'x', 'o', 'o', 'x', 'x', 'positive'], ['x', 'o', 'x', 'o', 'x', 'o', 'b', 'b', 'x', 'positive'], ['x', 'o', 'x', 'o', 'x', 'b', 'x', 'o', 'b', 'positive'], ['x', 'o', 'x', 'o', 'x', 'b', 'x', 'b', 'o', 'positive'], ['x', 'o', 'x', 'o', 'x', 'b', 'o', 'b', 'x', 'positive'], ['x', 'o', 'x', 'o', 'x', 'b', 'b', 'o', 'x', 'positive'], ['x', 'o', 'x', 'o', 'o', 'x', 'o', 'x', 'x', 'positive'], ['x', 'o', 'x', 'o', 'o', 'x', 'b', 'b', 'x', 'positive'], ['x', 'o', 'x', 'o', 'b', 'x', 'o', 'b', 'x', 'positive'], ['x', 'o', 'x', 'o', 'b', 'x', 'b', 'o', 'x', 'positive'], ['x', 'o', 'x', 'b', 'x', 'o', 'x', 'o', 'b', 'positive'], ['x', 'o', 'x', 'b', 'x', 'o', 'x', 'b', 'o', 'positive'], ['x', 'o', 'x', 'b', 'x', 'o', 'o', 'b', 'x', 'positive'], ['x', 'o', 'x', 'b', 'x', 'o', 'b', 'o', 'x', 'positive'], ['x', 'o', 'x', 'b', 'x', 'b', 'x', 'o', 'o', 'positive'], ['x', 'o', 'x', 'b', 'x', 'b', 'o', 'o', 'x', 'positive'], ['x', 'o', 'x', 'b', 'o', 'x', 'o', 'b', 'x', 'positive'], ['x', 'o', 'x', 'b', 'b', 'x', 'o', 'o', 'x', 'positive'], ['x', 'o', 'o', 'x', 'x', 'x', 'x', 'o', 'o', 'positive'], ['x', 'o', 'o', 'x', 'x', 'x', 'o', 'x', 'o', 'positive'], ['x', 'o', 'o', 'x', 'x', 'x', 'o', 'o', 'x', 'positive'], ['x', 'o', 'o', 'x', 'x', 'x', 'o', 'b', 'b', 'positive'], ['x', 'o', 'o', 'x', 'x', 'x', 'b', 'o', 'b', 'positive'], ['x', 'o', 'o', 'x', 'x', 'x', 'b', 'b', 'o', 'positive'], ['x', 'o', 'o', 'x', 'x', 'o', 'x', 'o', 'x', 'positive'], ['x', 'o', 'o', 'x', 'x', 'o', 'x', 'b', 'b', 'positive'], ['x', 'o', 'o', 'x', 'x', 'o', 'o', 'x', 'x', 'positive'], ['x', 'o', 'o', 'x', 'x', 'o', 'b', 'b', 'x', 'positive'], ['x', 'o', 'o', 'x', 'x', 'b', 'x', 'o', 'b', 'positive'], ['x', 'o', 'o', 'x', 'x', 'b', 'x', 'b', 'o', 'positive'], ['x', 'o', 'o', 'x', 'x', 'b', 'o', 'b', 'x', 'positive'], ['x', 'o', 'o', 'x', 'x', 'b', 'b', 'o', 'x', 'positive'], ['x', 'o', 'o', 'x', 'o', 'x', 'x', 'x', 'o', 'positive'], ['x', 'o', 'o', 'x', 'o', 'x', 'x', 'b', 'b', 'positive'], ['x', 'o', 'o', 'x', 'o', 'o', 'x', 'x', 'x', 'positive'], ['x', 'o', 'o', 'x', 'o', 'b', 'x', 'x', 'b', 'positive'], ['x', 'o', 'o', 'x', 'o', 'b', 'x', 'b', 'x', 'positive'], ['x', 'o', 'o', 'x', 'b', 'x', 'x', 'o', 'b', 'positive'], ['x', 'o', 'o', 'x', 'b', 'x', 'x', 'b', 'o', 'positive'], ['x', 'o', 'o', 'x', 'b', 'o', 'x', 'x', 'b', 'positive'], ['x', 'o', 'o', 'x', 'b', 'o', 'x', 'b', 'x', 'positive'], ['x', 'o', 'o', 'x', 'b', 'b', 'x', 'x', 'o', 'positive'], ['x', 'o', 'o', 'x', 'b', 'b', 'x', 'o', 'x', 'positive'], ['x', 'o', 'o', 'x', 'b', 'b', 'x', 'b', 'b', 'positive'], ['x', 'o', 'o', 'o', 'x', 'x', 'x', 'o', 'x', 'positive'], ['x', 'o', 'o', 'o', 'x', 'x', 'o', 'x', 'x', 'positive'], ['x', 'o', 'o', 'o', 'x', 'x', 'b', 'b', 'x', 'positive'], ['x', 'o', 'o', 'o', 'x', 'o', 'x', 'x', 'x', 'positive'], ['x', 'o', 'o', 'o', 'x', 'b', 'x', 'b', 'x', 'positive'], ['x', 'o', 'o', 'o', 'x', 'b', 'b', 'x', 'x', 'positive'], ['x', 'o', 'o', 'o', 'o', 'x', 'x', 'x', 'x', 'positive'], ['x', 'o', 'o', 'o', 'b', 'b', 'x', 'x', 'x', 'positive'], ['x', 'o', 'o', 'b', 'x', 'x', 'o', 'b', 'x', 'positive'], ['x', 'o', 'o', 'b', 'x', 'x', 'b', 'o', 'x', 'positive'], ['x', 'o', 'o', 'b', 'x', 'o', 'x', 'b', 'x', 'positive'], ['x', 'o', 'o', 'b', 'x', 'o', 'b', 'x', 'x', 'positive'], ['x', 'o', 'o', 'b', 'x', 'b', 'x', 'o', 'x', 'positive'], ['x', 'o', 'o', 'b', 'x', 'b', 'o', 'x', 'x', 'positive'], ['x', 'o', 'o', 'b', 'x', 'b', 'b', 'b', 'x', 'positive'], ['x', 'o', 'o', 'b', 'o', 'b', 'x', 'x', 'x', 'positive'], ['x', 'o', 'o', 'b', 'b', 'o', 'x', 'x', 'x', 'positive'], ['x', 'o', 'b', 'x', 'x', 'x', 'o', 'o', 'b', 'positive'], ['x', 'o', 'b', 'x', 'x', 'x', 'o', 'b', 'o', 'positive'], ['x', 'o', 'b', 'x', 'x', 'x', 'b', 'o', 'o', 'positive'], ['x', 'o', 'b', 'x', 'x', 'o', 'x', 'o', 'b', 'positive'], ['x', 'o', 'b', 'x', 'x', 'o', 'x', 'b', 'o', 'positive'], ['x', 'o', 'b', 'x', 'x', 'o', 'o', 'b', 'x', 'positive'], ['x', 'o', 'b', 'x', 'x', 'o', 'b', 'o', 'x', 'positive'], ['x', 'o', 'b', 'x', 'x', 'b', 'x', 'o', 'o', 'positive'], ['x', 'o', 'b', 'x', 'x', 'b', 'o', 'o', 'x', 'positive'], ['x', 'o', 'b', 'x', 'o', 'x', 'x', 'b', 'o', 'positive'], ['x', 'o', 'b', 'x', 'o', 'o', 'x', 'x', 'b', 'positive'], ['x', 'o', 'b', 'x', 'o', 'o', 'x', 'b', 'x', 'positive'], ['x', 'o', 'b', 'x', 'o', 'b', 'x', 'x', 'o', 'positive'], ['x', 'o', 'b', 'x', 'o', 'b', 'x', 'b', 'b', 'positive'], ['x', 'o', 'b', 'x', 'b', 'x', 'x', 'o', 'o', 'positive'], ['x', 'o', 'b', 'x', 'b', 'o', 'x', 'x', 'o', 'positive'], ['x', 'o', 'b', 'x', 'b', 'o', 'x', 'o', 'x', 'positive'], ['x', 'o', 'b', 'x', 'b', 'o', 'x', 'b', 'b', 'positive'], ['x', 'o', 'b', 'x', 'b', 'b', 'x', 'o', 'b', 'positive'], ['x', 'o', 'b', 'x', 'b', 'b', 'x', 'b', 'o', 'positive'], ['x', 'o', 'b', 'o', 'x', 'x', 'o', 'b', 'x', 'positive'], ['x', 'o', 'b', 'o', 'x', 'x', 'b', 'o', 'x', 'positive'], ['x', 'o', 'b', 'o', 'x', 'o', 'x', 'b', 'x', 'positive'], ['x', 'o', 'b', 'o', 'x', 'o', 'b', 'x', 'x', 'positive'], ['x', 'o', 'b', 'o', 'x', 'b', 'x', 'o', 'x', 'positive'], ['x', 'o', 'b', 'o', 'x', 'b', 'o', 'x', 'x', 'positive'], ['x', 'o', 'b', 'o', 'x', 'b', 'b', 'b', 'x', 'positive'], ['x', 'o', 'b', 'o', 'o', 'b', 'x', 'x', 'x', 'positive'], ['x', 'o', 'b', 'o', 'b', 'o', 'x', 'x', 'x', 'positive'], ['x', 'o', 'b', 'b', 'x', 'x', 'o', 'o', 'x', 'positive'], ['x', 'o', 'b', 'b', 'x', 'o', 'x', 'o', 'x', 'positive'], ['x', 'o', 'b', 'b', 'x', 'o', 'o', 'x', 'x', 'positive'], ['x', 'o', 'b', 'b', 'x', 'o', 'b', 'b', 'x', 'positive'], ['x', 'o', 'b', 'b', 'x', 'b', 'o', 'b', 'x', 'positive'], ['x', 'o', 'b', 'b', 'x', 'b', 'b', 'o', 'x', 'positive'], ['x', 'o', 'b', 'b', 'o', 'o', 'x', 'x', 'x', 'positive'], ['x', 'b', 'x', 'x', 'o', 'o', 'x', 'o', 'b', 'positive'], ['x', 'b', 'x', 'x', 'o', 'o', 'x', 'b', 'o', 'positive'], ['x', 'b', 'x', 'x', 'o', 'b', 'x', 'o', 'o', 'positive'], ['x', 'b', 'x', 'x', 'b', 'o', 'x', 'o', 'o', 'positive'], ['x', 'b', 'x', 'o', 'x', 'o', 'x', 'o', 'b', 'positive'], ['x', 'b', 'x', 'o', 'x', 'o', 'x', 'b', 'o', 'positive'], ['x', 'b', 'x', 'o', 'x', 'o', 'o', 'b', 'x', 'positive'], ['x', 'b', 'x', 'o', 'x', 'o', 'b', 'o', 'x', 'positive'], ['x', 'b', 'x', 'o', 'x', 'b', 'x', 'o', 'o', 'positive'], ['x', 'b', 'x', 'o', 'x', 'b', 'o', 'o', 'x', 'positive'], ['x', 'b', 'x', 'o', 'o', 'x', 'o', 'b', 'x', 'positive'], ['x', 'b', 'x', 'o', 'o', 'x', 'b', 'o', 'x', 'positive'], ['x', 'b', 'x', 'o', 'b', 'x', 'o', 'o', 'x', 'positive'], ['x', 'b', 'x', 'b', 'x', 'o', 'x', 'o', 'o', 'positive'], ['x', 'b', 'x', 'b', 'x', 'o', 'o', 'o', 'x', 'positive'], ['x', 'b', 'x', 'b', 'o', 'x', 'o', 'o', 'x', 'positive'], ['x', 'b', 'o', 'x', 'x', 'x', 'o', 'o', 'b', 'positive'], ['x', 'b', 'o', 'x', 'x', 'x', 'o', 'b', 'o', 'positive'], ['x', 'b', 'o', 'x', 'x', 'x', 'b', 'o', 'o', 'positive'], ['x', 'b', 'o', 'x', 'x', 'o', 'x', 'o', 'b', 'positive'], ['x', 'b', 'o', 'x', 'x', 'o', 'o', 'b', 'x', 'positive'], ['x', 'b', 'o', 'x', 'x', 'o', 'b', 'o', 'x', 'positive'], ['x', 'b', 'o', 'x', 'x', 'b', 'x', 'o', 'o', 'positive'], ['x', 'b', 'o', 'x', 'x', 'b', 'o', 'o', 'x', 'positive'], ['x', 'b', 'o', 'x', 'o', 'x', 'x', 'o', 'b', 'positive'], ['x', 'b', 'o', 'x', 'o', 'x', 'x', 'b', 'o', 'positive'], ['x', 'b', 'o', 'x', 'o', 'o', 'x', 'x', 'b', 'positive'], ['x', 'b', 'o', 'x', 'o', 'o', 'x', 'b', 'x', 'positive'], ['x', 'b', 'o', 'x', 'o', 'b', 'x', 'x', 'o', 'positive'], ['x', 'b', 'o', 'x', 'o', 'b', 'x', 'o', 'x', 'positive'], ['x', 'b', 'o', 'x', 'o', 'b', 'x', 'b', 'b', 'positive'], ['x', 'b', 'o', 'x', 'b', 'x', 'x', 'o', 'o', 'positive'], ['x', 'b', 'o', 'x', 'b', 'o', 'x', 'o', 'x', 'positive'], ['x', 'b', 'o', 'x', 'b', 'o', 'x', 'b', 'b', 'positive'], ['x', 'b', 'o', 'x', 'b', 'b', 'x', 'o', 'b', 'positive'], ['x', 'b', 'o', 'x', 'b', 'b', 'x', 'b', 'o', 'positive'], ['x', 'b', 'o', 'o', 'x', 'x', 'o', 'b', 'x', 'positive'], ['x', 'b', 'o', 'o', 'x', 'x', 'b', 'o', 'x', 'positive'], ['x', 'b', 'o', 'o', 'x', 'o', 'x', 'b', 'x', 'positive'], ['x', 'b', 'o', 'o', 'x', 'o', 'b', 'x', 'x', 'positive'], ['x', 'b', 'o', 'o', 'x', 'b', 'x', 'o', 'x', 'positive'], ['x', 'b', 'o', 'o', 'x', 'b', 'o', 'x', 'x', 'positive'], ['x', 'b', 'o', 'o', 'x', 'b', 'b', 'b', 'x', 'positive'], ['x', 'b', 'o', 'o', 'o', 'b', 'x', 'x', 'x', 'positive'], ['x', 'b', 'o', 'o', 'b', 'o', 'x', 'x', 'x', 'positive'], ['x', 'b', 'o', 'b', 'x', 'x', 'o', 'o', 'x', 'positive'], ['x', 'b', 'o', 'b', 'x', 'o', 'x', 'o', 'x', 'positive'], ['x', 'b', 'o', 'b', 'x', 'o', 'o', 'x', 'x', 'positive'], ['x', 'b', 'o', 'b', 'x', 'o', 'b', 'b', 'x', 'positive'], ['x', 'b', 'o', 'b', 'x', 'b', 'o', 'b', 'x', 'positive'], ['x', 'b', 'o', 'b', 'x', 'b', 'b', 'o', 'x', 'positive'], ['x', 'b', 'o', 'b', 'o', 'o', 'x', 'x', 'x', 'positive'], ['x', 'b', 'b', 'x', 'x', 'o', 'x', 'o', 'o', 'positive'], ['x', 'b', 'b', 'x', 'x', 'o', 'o', 'o', 'x', 'positive'], ['x', 'b', 'b', 'x', 'o', 'x', 'x', 'o', 'o', 'positive'], ['x', 'b', 'b', 'x', 'o', 'o', 'x', 'x', 'o', 'positive'], ['x', 'b', 'b', 'x', 'o', 'o', 'x', 'o', 'x', 'positive'], ['x', 'b', 'b', 'x', 'o', 'o', 'x', 'b', 'b', 'positive'], ['x', 'b', 'b', 'x', 'o', 'b', 'x', 'o', 'b', 'positive'], ['x', 'b', 'b', 'x', 'o', 'b', 'x', 'b', 'o', 'positive'], ['x', 'b', 'b', 'x', 'b', 'o', 'x', 'o', 'b', 'positive'], ['x', 'b', 'b', 'x', 'b', 'o', 'x', 'b', 'o', 'positive'], ['x', 'b', 'b', 'x', 'b', 'b', 'x', 'o', 'o', 'positive'], ['x', 'b', 'b', 'o', 'x', 'x', 'o', 'o', 'x', 'positive'], ['x', 'b', 'b', 'o', 'x', 'o', 'x', 'o', 'x', 'positive'], ['x', 'b', 'b', 'o', 'x', 'o', 'o', 'x', 'x', 'positive'], ['x', 'b', 'b', 'o', 'x', 'o', 'b', 'b', 'x', 'positive'], ['x', 'b', 'b', 'o', 'x', 'b', 'o', 'b', 'x', 'positive'], ['x', 'b', 'b', 'o', 'x', 'b', 'b', 'o', 'x', 'positive'], ['x', 'b', 'b', 'b', 'x', 'o', 'o', 'b', 'x', 'positive'], ['x', 'b', 'b', 'b', 'x', 'o', 'b', 'o', 'x', 'positive'], ['x', 'b', 'b', 'b', 'x', 'b', 'o', 'o', 'x', 'positive'], ['o', 'x', 'x', 'x', 'x', 'o', 'x', 'o', 'o', 'positive'], ['o', 'x', 'x', 'x', 'x', 'o', 'o', 'x', 'o', 'positive'], ['o', 'x', 'x', 'x', 'o', 'x', 'o', 'o', 'x', 'positive'], ['o', 'x', 'x', 'o', 'x', 'x', 'x', 'o', 'o', 'positive'], ['o', 'x', 'x', 'o', 'x', 'o', 'x', 'x', 'o', 'positive'], ['o', 'x', 'x', 'o', 'x', 'o', 'x', 'o', 'x', 'positive'], ['o', 'x', 'x', 'o', 'x', 'o', 'x', 'b', 'b', 'positive'], ['o', 'x', 'x', 'o', 'x', 'o', 'b', 'x', 'b', 'positive'], ['o', 'x', 'x', 'o', 'x', 'b', 'x', 'o', 'b', 'positive'], ['o', 'x', 'x', 'o', 'x', 'b', 'x', 'b', 'o', 'positive'], ['o', 'x', 'x', 'o', 'x', 'b', 'b', 'x', 'o', 'positive'], ['o', 'x', 'x', 'o', 'o', 'x', 'x', 'o', 'x', 'positive'], ['o', 'x', 'x', 'o', 'o', 'x', 'b', 'b', 'x', 'positive'], ['o', 'x', 'x', 'o', 'b', 'x', 'b', 'o', 'x', 'positive'], ['o', 'x', 'x', 'b', 'x', 'o', 'x', 'o', 'b', 'positive'], ['o', 'x', 'x', 'b', 'x', 'o', 'x', 'b', 'o', 'positive'], ['o', 'x', 'x', 'b', 'x', 'o', 'o', 'x', 'b', 'positive'], ['o', 'x', 'x', 'b', 'x', 'o', 'b', 'x', 'o', 'positive'], ['o', 'x', 'x', 'b', 'x', 'b', 'x', 'o', 'o', 'positive'], ['o', 'x', 'x', 'b', 'x', 'b', 'o', 'x', 'o', 'positive'], ['o', 'x', 'x', 'b', 'o', 'x', 'o', 'b', 'x', 'positive'], ['o', 'x', 'x', 'b', 'o', 'x', 'b', 'o', 'x', 'positive'], ['o', 'x', 'x', 'b', 'b', 'x', 'o', 'o', 'x', 'positive'], ['o', 'x', 'o', 'x', 'x', 'x', 'x', 'o', 'o', 'positive'], ['o', 'x', 'o', 'x', 'x', 'x', 'o', 'x', 'o', 'positive'], ['o', 'x', 'o', 'x', 'x', 'x', 'o', 'o', 'x', 'positive'], ['o', 'x', 'o', 'x', 'x', 'x', 'o', 'b', 'b', 'positive'], ['o', 'x', 'o', 'x', 'x', 'x', 'b', 'o', 'b', 'positive'], ['o', 'x', 'o', 'x', 'x', 'x', 'b', 'b', 'o', 'positive'], ['o', 'x', 'o', 'x', 'x', 'o', 'o', 'x', 'x', 'positive'], ['o', 'x', 'o', 'x', 'x', 'o', 'b', 'x', 'b', 'positive'], ['o', 'x', 'o', 'x', 'x', 'b', 'o', 'x', 'b', 'positive'], ['o', 'x', 'o', 'x', 'x', 'b', 'b', 'x', 'o', 'positive'], ['o', 'x', 'o', 'x', 'o', 'o', 'x', 'x', 'x', 'positive'], ['o', 'x', 'o', 'o', 'x', 'x', 'x', 'x', 'o', 'positive'], ['o', 'x', 'o', 'o', 'x', 'x', 'b', 'x', 'b', 'positive'], ['o', 'x', 'o', 'o', 'x', 'o', 'x', 'x', 'x', 'positive'], ['o', 'x', 'o', 'o', 'x', 'b', 'x', 'x', 'b', 'positive'], ['o', 'x', 'o', 'o', 'x', 'b', 'b', 'x', 'x', 'positive'], ['o', 'x', 'o', 'o', 'o', 'x', 'x', 'x', 'x', 'positive'], ['o', 'x', 'o', 'o', 'b', 'b', 'x', 'x', 'x', 'positive'], ['o', 'x', 'o', 'b', 'x', 'x', 'o', 'x', 'b', 'positive'], ['o', 'x', 'o', 'b', 'x', 'x', 'b', 'x', 'o', 'positive'], ['o', 'x', 'o', 'b', 'x', 'o', 'x', 'x', 'b', 'positive'], ['o', 'x', 'o', 'b', 'x', 'o', 'b', 'x', 'x', 'positive'], ['o', 'x', 'o', 'b', 'x', 'b', 'x', 'x', 'o', 'positive'], ['o', 'x', 'o', 'b', 'x', 'b', 'o', 'x', 'x', 'positive'], ['o', 'x', 'o', 'b', 'x', 'b', 'b', 'x', 'b', 'positive'], ['o', 'x', 'o', 'b', 'o', 'b', 'x', 'x', 'x', 'positive'], ['o', 'x', 'o', 'b', 'b', 'o', 'x', 'x', 'x', 'positive'], ['o', 'x', 'b', 'x', 'x', 'x', 'o', 'o', 'b', 'positive'], ['o', 'x', 'b', 'x', 'x', 'x', 'o', 'b', 'o', 'positive'], ['o', 'x', 'b', 'x', 'x', 'x', 'b', 'o', 'o', 'positive'], ['o', 'x', 'b', 'x', 'x', 'o', 'o', 'x', 'b', 'positive'], ['o', 'x', 'b', 'x', 'x', 'o', 'b', 'x', 'o', 'positive'], ['o', 'x', 'b', 'x', 'x', 'b', 'o', 'x', 'o', 'positive'], ['o', 'x', 'b', 'o', 'x', 'x', 'b', 'x', 'o', 'positive'], ['o', 'x', 'b', 'o', 'x', 'o', 'x', 'x', 'b', 'positive'], ['o', 'x', 'b', 'o', 'x', 'o', 'b', 'x', 'x', 'positive'], ['o', 'x', 'b', 'o', 'x', 'b', 'x', 'x', 'o', 'positive'], ['o', 'x', 'b', 'o', 'x', 'b', 'b', 'x', 'b', 'positive'], ['o', 'x', 'b', 'o', 'o', 'b', 'x', 'x', 'x', 'positive'], ['o', 'x', 'b', 'o', 'b', 'o', 'x', 'x', 'x', 'positive'], ['o', 'x', 'b', 'b', 'x', 'x', 'o', 'x', 'o', 'positive'], ['o', 'x', 'b', 'b', 'x', 'o', 'x', 'x', 'o', 'positive'], ['o', 'x', 'b', 'b', 'x', 'o', 'o', 'x', 'x', 'positive'], ['o', 'x', 'b', 'b', 'x', 'o', 'b', 'x', 'b', 'positive'], ['o', 'x', 'b', 'b', 'x', 'b', 'o', 'x', 'b', 'positive'], ['o', 'x', 'b', 'b', 'x', 'b', 'b', 'x', 'o', 'positive'], ['o', 'x', 'b', 'b', 'o', 'o', 'x', 'x', 'x', 'positive'], ['o', 'o', 'x', 'x', 'x', 'x', 'x', 'o', 'o', 'positive'], ['o', 'o', 'x', 'x', 'x', 'x', 'o', 'x', 'o', 'positive'], ['o', 'o', 'x', 'x', 'x', 'x', 'o', 'o', 'x', 'positive'], ['o', 'o', 'x', 'x', 'x', 'x', 'o', 'b', 'b', 'positive'], ['o', 'o', 'x', 'x', 'x', 'x', 'b', 'o', 'b', 'positive'], ['o', 'o', 'x', 'x', 'x', 'x', 'b', 'b', 'o', 'positive'], ['o', 'o', 'x', 'x', 'x', 'o', 'x', 'x', 'o', 'positive'], ['o', 'o', 'x', 'x', 'x', 'o', 'x', 'o', 'x', 'positive'], ['o', 'o', 'x', 'x', 'x', 'o', 'x', 'b', 'b', 'positive'], ['o', 'o', 'x', 'x', 'x', 'b', 'x', 'o', 'b', 'positive'], ['o', 'o', 'x', 'x', 'x', 'b', 'x', 'b', 'o', 'positive'], ['o', 'o', 'x', 'x', 'o', 'x', 'o', 'x', 'x', 'positive'], ['o', 'o', 'x', 'x', 'o', 'x', 'b', 'b', 'x', 'positive'], ['o', 'o', 'x', 'x', 'o', 'o', 'x', 'x', 'x', 'positive'], ['o', 'o', 'x', 'x', 'b', 'x', 'o', 'b', 'x', 'positive'], ['o', 'o', 'x', 'x', 'b', 'x', 'b', 'o', 'x', 'positive'], ['o', 'o', 'x', 'o', 'x', 'x', 'x', 'x', 'o', 'positive'], ['o', 'o', 'x', 'o', 'x', 'x', 'x', 'o', 'x', 'positive'], ['o', 'o', 'x', 'o', 'x', 'x', 'x', 'b', 'b', 'positive'], ['o', 'o', 'x', 'o', 'x', 'x', 'b', 'b', 'x', 'positive'], ['o', 'o', 'x', 'o', 'x', 'o', 'x', 'x', 'x', 'positive'], ['o', 'o', 'x', 'o', 'x', 'b', 'x', 'x', 'b', 'positive'], ['o', 'o', 'x', 'o', 'x', 'b', 'x', 'b', 'x', 'positive'], ['o', 'o', 'x', 'o', 'o', 'x', 'x', 'x', 'x', 'positive'], ['o', 'o', 'x', 'o', 'b', 'x', 'x', 'b', 'x', 'positive'], ['o', 'o', 'x', 'o', 'b', 'x', 'b', 'x', 'x', 'positive'], ['o', 'o', 'x', 'o', 'b', 'b', 'x', 'x', 'x', 'positive'], ['o', 'o', 'x', 'b', 'x', 'x', 'x', 'o', 'b', 'positive'], ['o', 'o', 'x', 'b', 'x', 'x', 'x', 'b', 'o', 'positive'], ['o', 'o', 'x', 'b', 'x', 'x', 'o', 'b', 'x', 'positive'], ['o', 'o', 'x', 'b', 'x', 'x', 'b', 'o', 'x', 'positive'], ['o', 'o', 'x', 'b', 'x', 'o', 'x', 'x', 'b', 'positive'], ['o', 'o', 'x', 'b', 'x', 'o', 'x', 'b', 'x', 'positive'], ['o', 'o', 'x', 'b', 'x', 'b', 'x', 'x', 'o', 'positive'], ['o', 'o', 'x', 'b', 'x', 'b', 'x', 'o', 'x', 'positive'], ['o', 'o', 'x', 'b', 'x', 'b', 'x', 'b', 'b', 'positive'], ['o', 'o', 'x', 'b', 'o', 'x', 'x', 'b', 'x', 'positive'], ['o', 'o', 'x', 'b', 'o', 'x', 'b', 'x', 'x', 'positive'], ['o', 'o', 'x', 'b', 'o', 'b', 'x', 'x', 'x', 'positive'], ['o', 'o', 'x', 'b', 'b', 'x', 'x', 'o', 'x', 'positive'], ['o', 'o', 'x', 'b', 'b', 'x', 'o', 'x', 'x', 'positive'], ['o', 'o', 'x', 'b', 'b', 'x', 'b', 'b', 'x', 'positive'], ['o', 'o', 'x', 'b', 'b', 'o', 'x', 'x', 'x', 'positive'], ['o', 'o', 'b', 'x', 'x', 'x', 'x', 'o', 'b', 'positive'], ['o', 'o', 'b', 'x', 'x', 'x', 'x', 'b', 'o', 'positive'], ['o', 'o', 'b', 'x', 'x', 'x', 'o', 'x', 'b', 'positive'], ['o', 'o', 'b', 'x', 'x', 'x', 'o', 'b', 'x', 'positive'], ['o', 'o', 'b', 'x', 'x', 'x', 'b', 'x', 'o', 'positive'], ['o', 'o', 'b', 'x', 'x', 'x', 'b', 'o', 'x', 'positive'], ['o', 'o', 'b', 'x', 'x', 'x', 'b', 'b', 'b', 'positive'], ['o', 'o', 'b', 'x', 'o', 'b', 'x', 'x', 'x', 'positive'], ['o', 'o', 'b', 'x', 'b', 'o', 'x', 'x', 'x', 'positive'], ['o', 'o', 'b', 'o', 'x', 'b', 'x', 'x', 'x', 'positive'], ['o', 'o', 'b', 'o', 'b', 'x', 'x', 'x', 'x', 'positive'], ['o', 'o', 'b', 'b', 'x', 'o', 'x', 'x', 'x', 'positive'], ['o', 'o', 'b', 'b', 'o', 'x', 'x', 'x', 'x', 'positive'], ['o', 'o', 'b', 'b', 'b', 'b', 'x', 'x', 'x', 'positive'], ['o', 'b', 'x', 'x', 'x', 'x', 'o', 'o', 'b', 'positive'], ['o', 'b', 'x', 'x', 'x', 'x', 'o', 'b', 'o', 'positive'], ['o', 'b', 'x', 'x', 'x', 'x', 'b', 'o', 'o', 'positive'], ['o', 'b', 'x', 'x', 'x', 'o', 'x', 'o', 'b', 'positive'], ['o', 'b', 'x', 'x', 'x', 'o', 'x', 'b', 'o', 'positive'], ['o', 'b', 'x', 'x', 'x', 'b', 'x', 'o', 'o', 'positive'], ['o', 'b', 'x', 'x', 'o', 'x', 'o', 'b', 'x', 'positive'], ['o', 'b', 'x', 'x', 'o', 'x', 'b', 'o', 'x', 'positive'], ['o', 'b', 'x', 'x', 'b', 'x', 'o', 'o', 'x', 'positive'], ['o', 'b', 'x', 'o', 'x', 'x', 'x', 'o', 'b', 'positive'], ['o', 'b', 'x', 'o', 'x', 'x', 'x', 'b', 'o', 'positive'], ['o', 'b', 'x', 'o', 'x', 'x', 'b', 'o', 'x', 'positive'], ['o', 'b', 'x', 'o', 'x', 'o', 'x', 'x', 'b', 'positive'], ['o', 'b', 'x', 'o', 'x', 'o', 'x', 'b', 'x', 'positive'], ['o', 'b', 'x', 'o', 'x', 'b', 'x', 'x', 'o', 'positive'], ['o', 'b', 'x', 'o', 'x', 'b', 'x', 'o', 'x', 'positive'], ['o', 'b', 'x', 'o', 'x', 'b', 'x', 'b', 'b', 'positive'], ['o', 'b', 'x', 'o', 'o', 'x', 'x', 'b', 'x', 'positive'], ['o', 'b', 'x', 'o', 'o', 'x', 'b', 'x', 'x', 'positive'], ['o', 'b', 'x', 'o', 'o', 'b', 'x', 'x', 'x', 'positive'], ['o', 'b', 'x', 'o', 'b', 'x', 'x', 'o', 'x', 'positive'], ['o', 'b', 'x', 'o', 'b', 'x', 'b', 'b', 'x', 'positive'], ['o', 'b', 'x', 'o', 'b', 'o', 'x', 'x', 'x', 'positive'], ['o', 'b', 'x', 'b', 'x', 'x', 'x', 'o', 'o', 'positive'], ['o', 'b', 'x', 'b', 'x', 'x', 'o', 'o', 'x', 'positive'], ['o', 'b', 'x', 'b', 'x', 'o', 'x', 'x', 'o', 'positive'], ['o', 'b', 'x', 'b', 'x', 'o', 'x', 'o', 'x', 'positive'], ['o', 'b', 'x', 'b', 'x', 'o', 'x', 'b', 'b', 'positive'], ['o', 'b', 'x', 'b', 'x', 'b', 'x', 'o', 'b', 'positive'], ['o', 'b', 'x', 'b', 'x', 'b', 'x', 'b', 'o', 'positive'], ['o', 'b', 'x', 'b', 'o', 'x', 'x', 'o', 'x', 'positive'], ['o', 'b', 'x', 'b', 'o', 'x', 'o', 'x', 'x', 'positive'], ['o', 'b', 'x', 'b', 'o', 'x', 'b', 'b', 'x', 'positive'], ['o', 'b', 'x', 'b', 'o', 'o', 'x', 'x', 'x', 'positive'], ['o', 'b', 'x', 'b', 'b', 'x', 'o', 'b', 'x', 'positive'], ['o', 'b', 'x', 'b', 'b', 'x', 'b', 'o', 'x', 'positive'], ['o', 'b', 'o', 'x', 'x', 'x', 'x', 'o', 'b', 'positive'], ['o', 'b', 'o', 'x', 'x', 'x', 'x', 'b', 'o', 'positive'], ['o', 'b', 'o', 'x', 'x', 'x', 'o', 'x', 'b', 'positive'], ['o', 'b', 'o', 'x', 'x', 'x', 'o', 'b', 'x', 'positive'], ['o', 'b', 'o', 'x', 'x', 'x', 'b', 'x', 'o', 'positive'], ['o', 'b', 'o', 'x', 'x', 'x', 'b', 'o', 'x', 'positive'], ['o', 'b', 'o', 'x', 'x', 'x', 'b', 'b', 'b', 'positive'], ['o', 'b', 'o', 'x', 'o', 'b', 'x', 'x', 'x', 'positive'], ['o', 'b', 'o', 'x', 'b', 'o', 'x', 'x', 'x', 'positive'], ['o', 'b', 'o', 'o', 'x', 'b', 'x', 'x', 'x', 'positive'], ['o', 'b', 'o', 'o', 'b', 'x', 'x', 'x', 'x', 'positive'], ['o', 'b', 'o', 'b', 'x', 'o', 'x', 'x', 'x', 'positive'], ['o', 'b', 'o', 'b', 'o', 'x', 'x', 'x', 'x', 'positive'], ['o', 'b', 'o', 'b', 'b', 'b', 'x', 'x', 'x', 'positive'], ['o', 'b', 'b', 'x', 'x', 'x', 'x', 'o', 'o', 'positive'], ['o', 'b', 'b', 'x', 'x', 'x', 'o', 'x', 'o', 'positive'], ['o', 'b', 'b', 'x', 'x', 'x', 'o', 'o', 'x', 'positive'], ['o', 'b', 'b', 'x', 'x', 'x', 'o', 'b', 'b', 'positive'], ['o', 'b', 'b', 'x', 'x', 'x', 'b', 'o', 'b', 'positive'], ['o', 'b', 'b', 'x', 'x', 'x', 'b', 'b', 'o', 'positive'], ['o', 'b', 'b', 'x', 'o', 'o', 'x', 'x', 'x', 'positive'], ['o', 'b', 'b', 'o', 'x', 'o', 'x', 'x', 'x', 'positive'], ['o', 'b', 'b', 'o', 'o', 'x', 'x', 'x', 'x', 'positive'], ['o', 'b', 'b', 'o', 'b', 'b', 'x', 'x', 'x', 'positive'], ['o', 'b', 'b', 'b', 'o', 'b', 'x', 'x', 'x', 'positive'], ['o', 'b', 'b', 'b', 'b', 'o', 'x', 'x', 'x', 'positive'], ['b', 'x', 'x', 'o', 'x', 'o', 'x', 'o', 'b', 'positive'], ['b', 'x', 'x', 'o', 'x', 'o', 'x', 'b', 'o', 'positive'], ['b', 'x', 'x', 'o', 'x', 'o', 'o', 'x', 'b', 'positive'], ['b', 'x', 'x', 'o', 'x', 'o', 'b', 'x', 'o', 'positive'], ['b', 'x', 'x', 'o', 'x', 'b', 'x', 'o', 'o', 'positive'], ['b', 'x', 'x', 'o', 'x', 'b', 'o', 'x', 'o', 'positive'], ['b', 'x', 'x', 'o', 'o', 'x', 'o', 'b', 'x', 'positive'], ['b', 'x', 'x', 'o', 'o', 'x', 'b', 'o', 'x', 'positive'], ['b', 'x', 'x', 'o', 'b', 'x', 'o', 'o', 'x', 'positive'], ['b', 'x', 'x', 'b', 'x', 'o', 'x', 'o', 'o', 'positive'], ['b', 'x', 'x', 'b', 'x', 'o', 'o', 'x', 'o', 'positive'], ['b', 'x', 'x', 'b', 'o', 'x', 'o', 'o', 'x', 'positive'], ['b', 'x', 'o', 'x', 'x', 'x', 'o', 'o', 'b', 'positive'], ['b', 'x', 'o', 'x', 'x', 'x', 'o', 'b', 'o', 'positive'], ['b', 'x', 'o', 'x', 'x', 'x', 'b', 'o', 'o', 'positive'], ['b', 'x', 'o', 'x', 'x', 'o', 'o', 'x', 'b', 'positive'], ['b', 'x', 'o', 'x', 'x', 'b', 'o', 'x', 'o', 'positive'], ['b', 'x', 'o', 'o', 'x', 'x', 'o', 'x', 'b', 'positive'], ['b', 'x', 'o', 'o', 'x', 'x', 'b', 'x', 'o', 'positive'], ['b', 'x', 'o', 'o', 'x', 'o', 'x', 'x', 'b', 'positive'], ['b', 'x', 'o', 'o', 'x', 'o', 'b', 'x', 'x', 'positive'], ['b', 'x', 'o', 'o', 'x', 'b', 'x', 'x', 'o', 'positive'], ['b', 'x', 'o', 'o', 'x', 'b', 'o', 'x', 'x', 'positive'], ['b', 'x', 'o', 'o', 'x', 'b', 'b', 'x', 'b', 'positive'], ['b', 'x', 'o', 'o', 'o', 'b', 'x', 'x', 'x', 'positive'], ['b', 'x', 'o', 'o', 'b', 'o', 'x', 'x', 'x', 'positive'], ['b', 'x', 'o', 'b', 'x', 'x', 'o', 'x', 'o', 'positive'], ['b', 'x', 'o', 'b', 'x', 'o', 'o', 'x', 'x', 'positive'], ['b', 'x', 'o', 'b', 'x', 'o', 'b', 'x', 'b', 'positive'], ['b', 'x', 'o', 'b', 'x', 'b', 'o', 'x', 'b', 'positive'], ['b', 'x', 'o', 'b', 'x', 'b', 'b', 'x', 'o', 'positive'], ['b', 'x', 'o', 'b', 'o', 'o', 'x', 'x', 'x', 'positive'], ['b', 'x', 'b', 'x', 'x', 'o', 'o', 'x', 'o', 'positive'], ['b', 'x', 'b', 'o', 'x', 'x', 'o', 'x', 'o', 'positive'], ['b', 'x', 'b', 'o', 'x', 'o', 'x', 'x', 'o', 'positive'], ['b', 'x', 'b', 'o', 'x', 'o', 'o', 'x', 'x', 'positive'], ['b', 'x', 'b', 'o', 'x', 'o', 'b', 'x', 'b', 'positive'], ['b', 'x', 'b', 'o', 'x', 'b', 'o', 'x', 'b', 'positive'], ['b', 'x', 'b', 'o', 'x', 'b', 'b', 'x', 'o', 'positive'], ['b', 'x', 'b', 'b', 'x', 'o', 'o', 'x', 'b', 'positive'], ['b', 'x', 'b', 'b', 'x', 'o', 'b', 'x', 'o', 'positive'], ['b', 'x', 'b', 'b', 'x', 'b', 'o', 'x', 'o', 'positive'], ['b', 'o', 'x', 'x', 'x', 'x', 'o', 'o', 'b', 'positive'], ['b', 'o', 'x', 'x', 'x', 'x', 'o', 'b', 'o', 'positive'], ['b', 'o', 'x', 'x', 'x', 'x', 'b', 'o', 'o', 'positive'], ['b', 'o', 'x', 'x', 'x', 'o', 'x', 'o', 'b', 'positive'], ['b', 'o', 'x', 'x', 'x', 'o', 'x', 'b', 'o', 'positive'], ['b', 'o', 'x', 'x', 'x', 'b', 'x', 'o', 'o', 'positive'], ['b', 'o', 'x', 'x', 'o', 'x', 'o', 'b', 'x', 'positive'], ['b', 'o', 'x', 'x', 'b', 'x', 'o', 'o', 'x', 'positive'], ['b', 'o', 'x', 'o', 'x', 'x', 'x', 'o', 'b', 'positive'], ['b', 'o', 'x', 'o', 'x', 'x', 'x', 'b', 'o', 'positive'], ['b', 'o', 'x', 'o', 'x', 'x', 'o', 'b', 'x', 'positive'], ['b', 'o', 'x', 'o', 'x', 'x', 'b', 'o', 'x', 'positive'], ['b', 'o', 'x', 'o', 'x', 'o', 'x', 'x', 'b', 'positive'], ['b', 'o', 'x', 'o', 'x', 'o', 'x', 'b', 'x', 'positive'], ['b', 'o', 'x', 'o', 'x', 'b', 'x', 'x', 'o', 'positive'], ['b', 'o', 'x', 'o', 'x', 'b', 'x', 'o', 'x', 'positive'], ['b', 'o', 'x', 'o', 'x', 'b', 'x', 'b', 'b', 'positive'], ['b', 'o', 'x', 'o', 'o', 'x', 'x', 'b', 'x', 'positive'], ['b', 'o', 'x', 'o', 'o', 'x', 'b', 'x', 'x', 'positive'], ['b', 'o', 'x', 'o', 'o', 'b', 'x', 'x', 'x', 'positive'], ['b', 'o', 'x', 'o', 'b', 'x', 'x', 'o', 'x', 'positive'], ['b', 'o', 'x', 'o', 'b', 'x', 'o', 'x', 'x', 'positive'], ['b', 'o', 'x', 'o', 'b', 'x', 'b', 'b', 'x', 'positive'], ['b', 'o', 'x', 'o', 'b', 'o', 'x', 'x', 'x', 'positive'], ['b', 'o', 'x', 'b', 'x', 'x', 'x', 'o', 'o', 'positive'], ['b', 'o', 'x', 'b', 'x', 'x', 'o', 'o', 'x', 'positive'], ['b', 'o', 'x', 'b', 'x', 'o', 'x', 'x', 'o', 'positive'], ['b', 'o', 'x', 'b', 'x', 'o', 'x', 'o', 'x', 'positive'], ['b', 'o', 'x', 'b', 'x', 'o', 'x', 'b', 'b', 'positive'], ['b', 'o', 'x', 'b', 'x', 'b', 'x', 'o', 'b', 'positive'], ['b', 'o', 'x', 'b', 'x', 'b', 'x', 'b', 'o', 'positive'], ['b', 'o', 'x', 'b', 'o', 'x', 'o', 'x', 'x', 'positive'], ['b', 'o', 'x', 'b', 'o', 'x', 'b', 'b', 'x', 'positive'], ['b', 'o', 'x', 'b', 'o', 'o', 'x', 'x', 'x', 'positive'], ['b', 'o', 'x', 'b', 'b', 'x', 'o', 'b', 'x', 'positive'], ['b', 'o', 'x', 'b', 'b', 'x', 'b', 'o', 'x', 'positive'], ['b', 'o', 'o', 'x', 'x', 'x', 'x', 'o', 'b', 'positive'], ['b', 'o', 'o', 'x', 'x', 'x', 'x', 'b', 'o', 'positive'], ['b', 'o', 'o', 'x', 'x', 'x', 'o', 'x', 'b', 'positive'], ['b', 'o', 'o', 'x', 'x', 'x', 'o', 'b', 'x', 'positive'], ['b', 'o', 'o', 'x', 'x', 'x', 'b', 'x', 'o', 'positive'], ['b', 'o', 'o', 'x', 'x', 'x', 'b', 'o', 'x', 'positive'], ['b', 'o', 'o', 'x', 'x', 'x', 'b', 'b', 'b', 'positive'], ['b', 'o', 'o', 'x', 'o', 'b', 'x', 'x', 'x', 'positive'], ['b', 'o', 'o', 'x', 'b', 'o', 'x', 'x', 'x', 'positive'], ['b', 'o', 'o', 'o', 'x', 'b', 'x', 'x', 'x', 'positive'], ['b', 'o', 'o', 'o', 'b', 'x', 'x', 'x', 'x', 'positive'], ['b', 'o', 'o', 'b', 'x', 'o', 'x', 'x', 'x', 'positive'], ['b', 'o', 'o', 'b', 'o', 'x', 'x', 'x', 'x', 'positive'], ['b', 'o', 'o', 'b', 'b', 'b', 'x', 'x', 'x', 'positive'], ['b', 'o', 'b', 'x', 'x', 'x', 'x', 'o', 'o', 'positive'], ['b', 'o', 'b', 'x', 'x', 'x', 'o', 'x', 'o', 'positive'], ['b', 'o', 'b', 'x', 'x', 'x', 'o', 'o', 'x', 'positive'], ['b', 'o', 'b', 'x', 'x', 'x', 'o', 'b', 'b', 'positive'], ['b', 'o', 'b', 'x', 'x', 'x', 'b', 'o', 'b', 'positive'], ['b', 'o', 'b', 'x', 'x', 'x', 'b', 'b', 'o', 'positive'], ['b', 'o', 'b', 'x', 'o', 'o', 'x', 'x', 'x', 'positive'], ['b', 'o', 'b', 'o', 'x', 'o', 'x', 'x', 'x', 'positive'], ['b', 'o', 'b', 'o', 'o', 'x', 'x', 'x', 'x', 'positive'], ['b', 'o', 'b', 'o', 'b', 'b', 'x', 'x', 'x', 'positive'], ['b', 'o', 'b', 'b', 'o', 'b', 'x', 'x', 'x', 'positive'], ['b', 'o', 'b', 'b', 'b', 'o', 'x', 'x', 'x', 'positive'], ['b', 'b', 'x', 'x', 'x', 'o', 'x', 'o', 'o', 'positive'], ['b', 'b', 'x', 'x', 'o', 'x', 'o', 'o', 'x', 'positive'], ['b', 'b', 'x', 'o', 'x', 'x', 'x', 'o', 'o', 'positive'], ['b', 'b', 'x', 'o', 'x', 'x', 'o', 'o', 'x', 'positive'], ['b', 'b', 'x', 'o', 'x', 'o', 'x', 'x', 'o', 'positive'], ['b', 'b', 'x', 'o', 'x', 'o', 'x', 'o', 'x', 'positive'], ['b', 'b', 'x', 'o', 'x', 'o', 'x', 'b', 'b', 'positive'], ['b', 'b', 'x', 'o', 'x', 'b', 'x', 'o', 'b', 'positive'], ['b', 'b', 'x', 'o', 'x', 'b', 'x', 'b', 'o', 'positive'], ['b', 'b', 'x', 'o', 'o', 'x', 'x', 'o', 'x', 'positive'], ['b', 'b', 'x', 'o', 'o', 'x', 'o', 'x', 'x', 'positive'], ['b', 'b', 'x', 'o', 'o', 'x', 'b', 'b', 'x', 'positive'], ['b', 'b', 'x', 'o', 'b', 'x', 'o', 'b', 'x', 'positive'], ['b', 'b', 'x', 'o', 'b', 'x', 'b', 'o', 'x', 'positive'], ['b', 'b', 'x', 'b', 'x', 'o', 'x', 'o', 'b', 'positive'], ['b', 'b', 'x', 'b', 'x', 'o', 'x', 'b', 'o', 'positive'], ['b', 'b', 'x', 'b', 'x', 'b', 'x', 'o', 'o', 'positive'], ['b', 'b', 'x', 'b', 'o', 'x', 'o', 'b', 'x', 'positive'], ['b', 'b', 'x', 'b', 'o', 'x', 'b', 'o', 'x', 'positive'], ['b', 'b', 'x', 'b', 'b', 'x', 'o', 'o', 'x', 'positive'], ['b', 'b', 'o', 'x', 'x', 'x', 'x', 'o', 'o', 'positive'], ['b', 'b', 'o', 'x', 'x', 'x', 'o', 'x', 'o', 'positive'], ['b', 'b', 'o', 'x', 'x', 'x', 'o', 'o', 'x', 'positive'], ['b', 'b', 'o', 'x', 'x', 'x', 'o', 'b', 'b', 'positive'], ['b', 'b', 'o', 'x', 'x', 'x', 'b', 'o', 'b', 'positive'], ['b', 'b', 'o', 'x', 'x', 'x', 'b', 'b', 'o', 'positive'], ['b', 'b', 'o', 'x', 'o', 'o', 'x', 'x', 'x', 'positive'], ['b', 'b', 'o', 'o', 'x', 'o', 'x', 'x', 'x', 'positive'], ['b', 'b', 'o', 'o', 'o', 'x', 'x', 'x', 'x', 'positive'], ['b', 'b', 'o', 'o', 'b', 'b', 'x', 'x', 'x', 'positive'], ['b', 'b', 'o', 'b', 'o', 'b', 'x', 'x', 'x', 'positive'], ['b', 'b', 'o', 'b', 'b', 'o', 'x', 'x', 'x', 'positive'], ['b', 'b', 'b', 'x', 'x', 'x', 'o', 'o', 'b', 'positive'], ['b', 'b', 'b', 'x', 'x', 'x', 'o', 'b', 'o', 'positive'], ['b', 'b', 'b', 'x', 'x', 'x', 'b', 'o', 'o', 'positive'], ['b', 'b', 'b', 'o', 'o', 'b', 'x', 'x', 'x', 'positive'], ['b', 'b', 'b', 'o', 'b', 'o', 'x', 'x', 'x', 'positive'], ['b', 'b', 'b', 'b', 'o', 'o', 'x', 'x', 'x', 'positive']]\n"
     ]
    }
   ],
   "source": [
    "\"tic-tac-toe data import\"\n",
    "import os\n",
    "#data = open('tic-tac-toe.data', 'r')\n",
    "data = open('../data/tic-tac-toe.data', 'r')\n",
    "data_listed = []\n",
    "#for i in range(0,957):\n",
    "#    entry = []\n",
    "#    for i in range(0,9):\n",
    "#        continue\n",
    "for i in data.readlines():\n",
    "    data_listed.append(str.split(i[:-1], ','))\n",
    "    \n",
    "\n",
    "a = [game for game in data_listed if 'positive' == game[-1]]\n",
    "print(a)\n",
    "#print(np.where(data_listed == 'positive'))\n",
    "attributes = list(range(0,9))\n",
    "options = ['x','o','b']\n"
   ]
  },
  {
   "cell_type": "code",
   "execution_count": 8,
   "metadata": {},
   "outputs": [
    {
     "name": "stdout",
     "output_type": "stream",
     "text": [
      "[]\n"
     ]
    }
   ],
   "source": [
    "a = Ant(pharamones)\n",
    "print(a.rule)"
   ]
  },
  {
   "cell_type": "code",
   "execution_count": 42,
   "metadata": {},
   "outputs": [
    {
     "ename": "TypeError",
     "evalue": "add_terms() missing 1 required positional argument: 'heuristic'",
     "output_type": "error",
     "traceback": [
      "\u001b[1;31m---------------------------------------------------------------------------\u001b[0m",
      "\u001b[1;31mTypeError\u001b[0m                                 Traceback (most recent call last)",
      "\u001b[1;32m<ipython-input-42-ffc3f33925ca>\u001b[0m in \u001b[0;36m<module>\u001b[1;34m\u001b[0m\n\u001b[0;32m      7\u001b[0m \u001b[1;32mfor\u001b[0m \u001b[0mi\u001b[0m \u001b[1;32min\u001b[0m \u001b[0mrange\u001b[0m\u001b[1;33m(\u001b[0m\u001b[1;36m1\u001b[0m\u001b[1;33m,\u001b[0m\u001b[0mnum_ants\u001b[0m\u001b[1;33m)\u001b[0m\u001b[1;33m:\u001b[0m\u001b[1;33m\u001b[0m\u001b[1;33m\u001b[0m\u001b[0m\n\u001b[0;32m      8\u001b[0m     \u001b[0mants\u001b[0m\u001b[1;33m[\u001b[0m\u001b[1;34m\"ant\"\u001b[0m \u001b[1;33m+\u001b[0m \u001b[0mstr\u001b[0m\u001b[1;33m(\u001b[0m\u001b[0mi\u001b[0m\u001b[1;33m)\u001b[0m\u001b[1;33m]\u001b[0m \u001b[1;33m=\u001b[0m \u001b[0mAnt\u001b[0m\u001b[1;33m(\u001b[0m\u001b[0mants\u001b[0m\u001b[1;33m[\u001b[0m\u001b[1;34m\"ant\"\u001b[0m \u001b[1;33m+\u001b[0m \u001b[0mstr\u001b[0m\u001b[1;33m(\u001b[0m\u001b[0mi\u001b[0m\u001b[1;33m-\u001b[0m\u001b[1;36m1\u001b[0m\u001b[1;33m)\u001b[0m\u001b[1;33m]\u001b[0m\u001b[1;33m.\u001b[0m\u001b[0mpharamones\u001b[0m\u001b[1;33m)\u001b[0m\u001b[1;33m\u001b[0m\u001b[1;33m\u001b[0m\u001b[0m\n\u001b[1;32m----> 9\u001b[1;33m     \u001b[0mants\u001b[0m\u001b[1;33m[\u001b[0m\u001b[1;34m\"ant\"\u001b[0m\u001b[1;33m+\u001b[0m\u001b[0mstr\u001b[0m\u001b[1;33m(\u001b[0m\u001b[0mi\u001b[0m\u001b[1;33m)\u001b[0m\u001b[1;33m]\u001b[0m\u001b[1;33m.\u001b[0m\u001b[0madd_terms\u001b[0m\u001b[1;33m(\u001b[0m\u001b[0mattributes\u001b[0m\u001b[1;33m,\u001b[0m\u001b[0moptions\u001b[0m\u001b[1;33m)\u001b[0m\u001b[1;33m\u001b[0m\u001b[1;33m\u001b[0m\u001b[0m\n\u001b[0m\u001b[0;32m     10\u001b[0m     \u001b[0mprint\u001b[0m\u001b[1;33m(\u001b[0m\u001b[0mants\u001b[0m\u001b[1;33m[\u001b[0m\u001b[1;34m'ant'\u001b[0m \u001b[1;33m+\u001b[0m\u001b[0mstr\u001b[0m\u001b[1;33m(\u001b[0m\u001b[0mi\u001b[0m\u001b[1;33m)\u001b[0m\u001b[1;33m]\u001b[0m\u001b[1;33m.\u001b[0m\u001b[0mrule\u001b[0m\u001b[1;33m)\u001b[0m\u001b[1;33m\u001b[0m\u001b[1;33m\u001b[0m\u001b[0m\n\u001b[0;32m     11\u001b[0m     \u001b[0mants\u001b[0m\u001b[1;33m[\u001b[0m\u001b[1;34m\"ant\"\u001b[0m\u001b[1;33m+\u001b[0m\u001b[0mstr\u001b[0m\u001b[1;33m(\u001b[0m\u001b[0mi\u001b[0m\u001b[1;33m)\u001b[0m\u001b[1;33m]\u001b[0m\u001b[1;33m.\u001b[0m\u001b[0mupdate_pharamones\u001b[0m\u001b[1;33m(\u001b[0m\u001b[1;33m)\u001b[0m\u001b[1;33m\u001b[0m\u001b[1;33m\u001b[0m\u001b[0m\n",
      "\u001b[1;31mTypeError\u001b[0m: add_terms() missing 1 required positional argument: 'heuristic'"
     ]
    }
   ],
   "source": [
    "attributes = list(range(0,9))\n",
    "options = ['x','o','b']\n",
    "classes = ['positive', 'negative']\n",
    "num_ants = 50\n",
    "ants = {}\n",
    "ants['ant0'] = Ant(pharamones)\n",
    "for i in range(1,num_ants):\n",
    "    ants[\"ant\" + str(i)] = Ant(ants[\"ant\" + str(i-1)].pharamones)\n",
    "    heuristic = an\n",
    "    ants[\"ant\"+str(i)].add_terms(attributes,options,heuristic)\n",
    "    print(ants['ant' +str(i)].rule)\n",
    "    ants[\"ant\"+str(i)].update_pharamones()\n",
    "    print(ants[\"ant\"+str(i)].pharamones)"
   ]
  },
  {
   "cell_type": "code",
   "execution_count": 52,
   "metadata": {},
   "outputs": [
    {
     "name": "stdout",
     "output_type": "stream",
     "text": [
      "27\n"
     ]
    }
   ],
   "source": [
    "attributes = list(range(0,9))\n",
    "options = ['x','o','b']\n",
    "classes = ['positive', 'negative']\n",
    "ant = Ant(pharamones)\n",
    "print(len(ant.calc_heuristic(attributes,options,classes)))"
   ]
  },
  {
   "cell_type": "code",
   "execution_count": null,
   "metadata": {},
   "outputs": [],
   "source": [
    "class Catagorization()\n",
    "    def __init__(self, num_ants) #, end_cond, data, attributes, options, classes)\n",
    "        self.num_ants = num_ants\n",
    "        \n",
    "    def calc_heuristic(self,attributes, options, classes):\n",
    "        total_num = len(attributes)*(len(options))*len(classes)\n",
    "        probs = {}\n",
    "        heuristic = {}\n",
    "        for i in attributes:\n",
    "            for j in options:\n",
    "                for k in classes:\n",
    "                    a = [game for game in data_listed if k == game[-1]]\n",
    "                    b = [game for game in a if j == game[i]]\n",
    "                    p = len(b)/total_num\n",
    "                    c = probs.get((i,j),[]) \n",
    "                    c.append(np.log2(p**p))\n",
    "                    probs[(i,j)] = c\n",
    "                heuristic[(i,j)] = -sum(probs[(i,j)])\n",
    "        return heuristic\n",
    "\n",
    "    def run_sim(self):\n",
    "        ants = {}\n",
    "        ants['ant0'] = Ant(pharamones)\n",
    "        for i in range(self.num_ants):\n",
    "            ants[\"ant\" + str(i)] = Ant(ants[\"ant\" + str(i-1)].pharamones)"
   ]
  }
 ],
 "metadata": {
  "kernelspec": {
   "display_name": "Python 3",
   "language": "python",
   "name": "python3"
  },
  "language_info": {
   "codemirror_mode": {
    "name": "ipython",
    "version": 3
   },
   "file_extension": ".py",
   "mimetype": "text/x-python",
   "name": "python",
   "nbconvert_exporter": "python",
   "pygments_lexer": "ipython3",
   "version": "3.7.5"
  }
 },
 "nbformat": 4,
 "nbformat_minor": 2
}
