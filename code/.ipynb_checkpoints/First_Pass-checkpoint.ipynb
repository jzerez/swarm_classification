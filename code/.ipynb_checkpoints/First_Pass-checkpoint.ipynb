{
 "cells": [
  {
   "cell_type": "code",
   "execution_count": 1,
   "metadata": {},
   "outputs": [],
   "source": [
    "import numpy as np\n"
   ]
  },
  {
   "cell_type": "code",
   "execution_count": 24,
   "metadata": {},
   "outputs": [
    {
     "name": "stdout",
     "output_type": "stream",
     "text": [
      "[0.33333333 0.33333333 0.33333333]\n"
     ]
    }
   ],
   "source": [
    "pharamones = np.ones((9,3))/3\n",
    "print(pharamones[0])\n",
    "class Ant:\n",
    "    rule = []\n",
    "    delta_p = .05\n",
    "    def __init__(self,pharamones):\n",
    "        \"\"\n",
    "        self.pharamones = pharamones\n",
    "        self.decision = np.zeros((9,3))\n",
    "    def add_terms(self,attributes,options):\n",
    "        \"adds a term to the ruleset based on the pharamone trail and heuristic function\"\n",
    "        for i, j in enumerate(attributes):\n",
    "            choice = np.random.choice(options, 1, p = self.pharamones[i])\n",
    "            choice = np.take(choice,0)\n",
    "            term = (i, '=', choice)\n",
    "            self.rule.append(term)\n",
    "            if choice == 'x':\n",
    "                self.decision[i,0] = 1\n",
    "                self.decision[i,1] = -.5\n",
    "                self.decision[i,2] = -.5\n",
    "            if choice == 'o':\n",
    "                self.decision[i,0] = -.5\n",
    "                self.decision[i,1] = 1\n",
    "                self.decision[i,2] = -.5\n",
    "            if choice == 'b':\n",
    "                self.decision[i,0] = -.5\n",
    "                self.decision[i,1] = -.5\n",
    "                self.decision[i,2] = 1\n",
    "    def prune_terms():\n",
    "        \"Removes rules that don't add to the overall effectiveness of the rule\"\n",
    "    \n",
    "    def update_pharamones(self):\n",
    "        \"Add pharamone to the paths that the ant took\"\n",
    "        deltas = self.decision*self.delta_p\n",
    "        self.pharamones = self.pharamones + deltas\n",
    "\n",
    "    "
   ]
  },
  {
   "cell_type": "code",
   "execution_count": 25,
   "metadata": {},
   "outputs": [],
   "source": [
    "\"tic-tac-toe data import\"\n",
    "import os\n",
    "data = open('C:/Users/nlepore/swarm_classification/data/tic-tac-toe.data', 'r')\n",
    "data_listed = []\n",
    "#for i in range(0,957):\n",
    "#    entry = []\n",
    "#    for i in range(0,9):\n",
    "#        continue\n",
    "for i in data.readlines():\n",
    "    data_listed.append(i)\n",
    "attributes = list(range(0,9))\n",
    "options = ['x','o','b']\n"
   ]
  },
  {
   "cell_type": "code",
   "execution_count": 33,
   "metadata": {},
   "outputs": [
    {
     "name": "stdout",
     "output_type": "stream",
     "text": [
      "[[0.35833333 0.28333333 0.35833333]\n",
      " [0.28333333 0.28333333 0.43333333]\n",
      " [0.35833333 0.28333333 0.35833333]\n",
      " [0.28333333 0.35833333 0.35833333]\n",
      " [0.28333333 0.28333333 0.43333333]\n",
      " [0.35833333 0.28333333 0.35833333]\n",
      " [0.35833333 0.28333333 0.35833333]\n",
      " [0.43333333 0.28333333 0.28333333]\n",
      " [0.35833333 0.28333333 0.35833333]]\n",
      "[3.075 2.625 3.3  ]\n"
     ]
    }
   ],
   "source": [
    "ant1 = Ant(pharamones)\n",
    "ant1.add_terms(attributes, options)\n",
    "ant1.update_pharamones()\n",
    "ant2 = Ant(ant1.pharamones)\n",
    "ant2.add_terms(attributes, options)\n",
    "ant2.update_pharamones()\n",
    "print(ant2.pharamones)\n",
    "print(sum(ant2.pharamones))"
   ]
  },
  {
   "cell_type": "code",
   "execution_count": null,
   "metadata": {},
   "outputs": [],
   "source": []
  },
  {
   "cell_type": "code",
   "execution_count": null,
   "metadata": {},
   "outputs": [],
   "source": []
  }
 ],
 "metadata": {
  "kernelspec": {
   "display_name": "Python 3",
   "language": "python",
   "name": "python3"
  },
  "language_info": {
   "codemirror_mode": {
    "name": "ipython",
    "version": 3
   },
   "file_extension": ".py",
   "mimetype": "text/x-python",
   "name": "python",
   "nbconvert_exporter": "python",
   "pygments_lexer": "ipython3",
   "version": "3.7.5"
  }
 },
 "nbformat": 4,
 "nbformat_minor": 2
}
