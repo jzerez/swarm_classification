{
 "cells": [
  {
   "cell_type": "code",
   "execution_count": 18,
   "metadata": {
    "collapsed": true
   },
   "outputs": [],
   "source": [
    "import numpy as np\n",
    "import matplotlib.pyplot as plt"
   ]
  },
  {
   "cell_type": "code",
   "execution_count": 48,
   "metadata": {},
   "outputs": [],
   "source": [
    "class Catagorization:\n",
    "    def __init__(self, num_ants, num_rules_converge, data, attributes, options, classes):\n",
    "        self.num_ants = num_ants\n",
    "        self.num_rules_converge = num_rules_converge\n",
    "        self.data = data\n",
    "        self.attributes = attributes\n",
    "        self.options = options\n",
    "        self.classes = classes\n",
    "        self.heuristic = self.calc_heuristic()\n",
    "        self.pharamones = self.init_pharamones()\n",
    "        self.discovered_rules = {}\n",
    "        self.qualities = []\n",
    "        \n",
    "        self.init_ants() \n",
    "        \n",
    "    def init_ants(self):\n",
    "        self.ants = [Ant(self.pharamones, self.heuristic, self.attributes, self.options, self.classes) for i in range(self.num_ants)]\n",
    "        \n",
    "    def run_simulation(self):\n",
    "        for i in range(len(self.classes)):\n",
    "            self.converged_rules = 1\n",
    "            best_rule = []\n",
    "            best_quality = -1\n",
    "            consequent = None\n",
    "            \n",
    "            for j, ant in enumerate(self.ants):\n",
    "                self.run_one_ant(ant)\n",
    "                if ant.quality > best_quality:\n",
    "                    best_quality = ant.quality\n",
    "                    best_rule = ant.rule\n",
    "                    consequent = ant.consequent\n",
    "                    \n",
    "                if i > 0 and set(self.ants[j-1].rule) == set(ant.rule) and ant.rule:\n",
    "                    self.converged_rules += 1\n",
    "                else:\n",
    "                    self.converged_rules = 1\n",
    "                if self.converged_rules == self.num_rules_converge:\n",
    "                    print('rules have converged')\n",
    "                    break\n",
    "\n",
    "            n = self.remove_relevant_cases(best_rule, consequent)\n",
    "            self.discovered_rules[consequent] = (best_rule, best_quality, n)\n",
    "            self.pharamones = self.init_pharamones()\n",
    "            self.init_ants()\n",
    "            \n",
    "    def run_one_ant(self, ant):\n",
    "        ant.pharamones = self.pharamones\n",
    "        ant.add_terms()\n",
    "        q = self.prune_ant(ant)\n",
    "        consequent = self.calc_consequent(ant.rule)\n",
    "        self.update_pharamones(ant.rule, q)\n",
    "        ant.quality = q\n",
    "        ant.consequent = consequent\n",
    "        \n",
    "    def calc_heuristic(self):\n",
    "        total_num = len(self.attributes)*len(self.options)*len(self.classes)\n",
    "        probs = {}\n",
    "        heuristic = {}\n",
    "        for i in attributes:\n",
    "            for j in options:\n",
    "                for k in classes:\n",
    "                    a = [game for game in data_listed if k == game[-1]]\n",
    "                    b = [game for game in a if j == game[i]]\n",
    "                    p = len(b)/len(data_listed)\n",
    "                    c = probs.get((i,j),[]) \n",
    "                    c.append(np.log2(p**p))\n",
    "                    probs[(i,j)] = c\n",
    "                heuristic[(i,j)] = -sum(probs[(i,j)])\n",
    "        return heuristic\n",
    "\n",
    "    def pick_best_rule(self):\n",
    "        most_correct = 0\n",
    "        best_ant = None\n",
    "        for ant in self.ants:\n",
    "            consequence, num_correct = self.calc_num_correct(ant.rule)\n",
    "            ant.consequence = consequence\n",
    "            if num_correct > most_correct:\n",
    "                most_correct = num_correct\n",
    "                best_ant = ant\n",
    "        return most_correct, best_ant\n",
    "    \n",
    "    def find_relevant_cases(self, rule):\n",
    "        relevant_cases = self.data.copy()\n",
    "        for case in self.data:\n",
    "            for term in rule:\n",
    "                if case[term[0]] != term[1]:\n",
    "                    relevant_cases.remove(case)\n",
    "                    break\n",
    "        return relevant_cases\n",
    "    \n",
    "    def remove_relevant_cases(self, rule, consequent):\n",
    "        relevant_cases = self.find_relevant_cases(rule)\n",
    "        count = 0\n",
    "        for case in relevant_cases:\n",
    "            self.data.remove(case)\n",
    "            if case[-1] == consequent:\n",
    "                count += 1\n",
    "        return count\n",
    "    def calc_consequent(self, rule):\n",
    "        relevant_cases = self.find_relevant_cases(rule)\n",
    "        classes = {}\n",
    "        if not relevant_cases:\n",
    "            relevant_cases = self.data\n",
    "            \n",
    "        for case in relevant_cases:\n",
    "            classes[str(case[-1])] = classes.get(str(case[-1]), 0) + 1\n",
    "        res = max(classes, key=classes.get)\n",
    "        return res\n",
    "    \n",
    "    def prune_ant(self, ant):\n",
    "        \"\"\"Iteratively goes through the rulelist for an ant and sees which rules are not helping the quality of the rule\"\"\"\n",
    "        n = len(ant.rule)\n",
    "        for iteration in range(n):\n",
    "            max_delta_quality = 0\n",
    "            best_new_rule = ant.rule\n",
    "            consequent = self.calc_consequent(ant.rule)\n",
    "            base_quality = self.calc_quality(ant.rule, consequent)\n",
    "            \n",
    "            for i, term in enumerate(ant.rule):\n",
    "                new_rule = ant.rule[0:i] + ant.rule[i+1:]\n",
    "                new_consequent = self.calc_consequent(new_rule)\n",
    "                new_quality = self.calc_quality(new_rule, new_consequent)\n",
    "                if max_delta_quality <= new_quality - base_quality:\n",
    "                    max_delta_quality = new_quality - base_quality\n",
    "                    best_new_rule = new_rule\n",
    "            if max_delta_quality >= 0:\n",
    "                ant.rule = best_new_rule\n",
    "                max_delta_quality = 0\n",
    "            else:\n",
    "                break\n",
    "        return max_delta_quality + base_quality\n",
    "        \n",
    "    def calc_quality(self, rule, consequent):\n",
    "        relevant_cases = self.find_relevant_cases(rule)\n",
    "        num_cases_covered = len(relevant_cases)\n",
    "        num_cases_not_covered = len(self.data) - len(relevant_cases)\n",
    "        \n",
    "        true_positives = len([case for case in relevant_cases if case[-1] == consequent])\n",
    "        false_positives = len(relevant_cases) - true_positives\n",
    "        false_negatives = len([case for case in self.data if case not in relevant_cases and case[-1] == consequent])\n",
    "        true_negatives = len(self.data) - len(relevant_cases) - false_negatives\n",
    "        \n",
    "        sensitivity = true_positives / (true_positives + false_negatives)\n",
    "        specificity = true_negatives / (true_negatives + false_positives)\n",
    "        \n",
    "        return sensitivity * specificity\n",
    "        \n",
    "    def run_sim(self):\n",
    "        ants = {}\n",
    "        ants['ant0'] = Ant(pharamones)\n",
    "        for i in range(self.num_ants):\n",
    "            ants[\"ant\" + str(i)] = Ant(ants[\"ant\" + str(i-1)].pharamones)\n",
    "            \n",
    "    def init_pharamones(self):\n",
    "        pharamones = {}\n",
    "        initial_value = 1/(len(self.attributes) * len(self.options))\n",
    "        for i in attributes:\n",
    "            for j in options:\n",
    "                pharamones[(i,j)] = initial_value\n",
    "        return pharamones\n",
    "    \n",
    "    def update_pharamones(self, rule, quality):\n",
    "        for term in rule:\n",
    "            self.pharamones[(term[0], term[1])] += quality\n",
    "        normalization_factor = sum(self.pharamones.values())\n",
    "        keys = self.pharamones.keys()\n",
    "        for key in keys:\n",
    "            self.pharamones[key] /= normalization_factor\n",
    "        \n",
    "        assert(sum(self.pharamones.values()) - 1 < 0.0001)"
   ]
  },
  {
   "cell_type": "code",
   "execution_count": 49,
   "metadata": {
    "collapsed": true
   },
   "outputs": [],
   "source": [
    "class Ant:\n",
    "    delta_p = .05\n",
    "    def __init__(self,pharamones, heuristic, attributes, options, classes):\n",
    "        \"\"\n",
    "        self.rule = []\n",
    "        self.pharamones = pharamones\n",
    "        self.heuristic = heuristic\n",
    "        self.decision = np.zeros((9,3))\n",
    "        self.k = 2\n",
    "        self.classes = classes\n",
    "        self.attributes = attributes\n",
    "        self.options = options\n",
    "        self.used_attributes = []\n",
    "        \n",
    "    def add_terms(self):\n",
    "        \"adds a term to the ruleset based on the pharamone trail and heuristic function\"\n",
    "        for i in self.attributes:\n",
    "            probs = self.calc_prob()\n",
    "#             print('probs are: ', probs)\n",
    "#             print('')\n",
    "            picking = True\n",
    "            while picking:\n",
    "                term = self.pick_term(probs)\n",
    "                if term[0] not in self.used_attributes:\n",
    "                    self.used_attributes.append(term[0])\n",
    "                    picking = False\n",
    "            self.rule.append(term)\n",
    "        \n",
    "    def normalize(self, function):\n",
    "        norm = {}\n",
    "        for i in self.attributes:\n",
    "            for j in self.options:\n",
    "                num = function(i, j)\n",
    "                if num == 0:\n",
    "                    norm[(i,j)] = 0\n",
    "                    continue\n",
    "                unused_attributes = len(self.attributes)-len(self.rule)\n",
    "                normalization_factor = 0\n",
    "                for jj in self.options:\n",
    "                    normalization_factor += function(i, jj)\n",
    "                norm[(i,j)] = num / (unused_attributes * normalization_factor)\n",
    "        return norm\n",
    "        \n",
    "    def normalize_heuristic(self):\n",
    "        def f(i, j):\n",
    "            return np.log2(self.k) - self.heuristic[(i,j)]\n",
    "        return self.normalize(f)\n",
    "    \n",
    "    def calc_prob(self):\n",
    "        self.normalized_heuristic = self.normalize_heuristic()\n",
    "        def f(i, j):\n",
    "            if i not in self.used_attributes:\n",
    "                return self.pharamones[(i,j)] * self.normalized_heuristic[(i,j)]\n",
    "            else:\n",
    "                return 0\n",
    "        return self.normalize(f)\n",
    "    \n",
    "    def pick_term(self, probs):\n",
    "        index = np.random.choice(len(probs), 1, p = list(probs.values()))\n",
    "        index = index[0]\n",
    "        term = list(probs.keys())[index]\n",
    "        return term\n"
   ]
  },
  {
   "cell_type": "code",
   "execution_count": 54,
   "metadata": {
    "collapsed": true
   },
   "outputs": [],
   "source": [
    "import os\n",
    "data = open('../data/tic-tac-toe.data', 'r')\n",
    "# data = open('../data/breast-cancer.data', 'r')\n",
    "data_listed = []\n",
    "#for i in range(0,957):\n",
    "#    entry = []\n",
    "#    for i in range(0,9):\n",
    "#        continue\n",
    "for i in data.readlines():\n",
    "    data_listed.append(tuple(str.split(i[:-1], ',')))\n"
   ]
  },
  {
   "cell_type": "code",
   "execution_count": 51,
   "metadata": {},
   "outputs": [
    {
     "data": {
      "text/plain": [
       "{'negative': ([(4, 'o')], 0.44158743600600486, 192),\n",
       " 'positive': ([(8, 'x')], 0.30460251046025105, 208)}"
      ]
     },
     "execution_count": 51,
     "metadata": {},
     "output_type": "execute_result"
    }
   ],
   "source": [
    "import numpy as np\n",
    "attributes = list(range(0,9))\n",
    "options = ['x','o','b']\n",
    "classes = ['positive', 'negative']\n",
    "\n",
    "\n",
    "s = Catagorization(100, 10, data_listed, attributes, options, classes)\n",
    "# pharamones = s.pharamones\n",
    "# h = s.heuristic\n",
    "# aa = Ant(pharamones, h, attributes, options, classes)\n",
    "s.run_simulation()\n",
    "s.discovered_rules"
   ]
  },
  {
   "cell_type": "code",
   "execution_count": 55,
   "metadata": {},
   "outputs": [
    {
     "data": {
      "text/plain": [
       "958"
      ]
     },
     "execution_count": 55,
     "metadata": {},
     "output_type": "execute_result"
    }
   ],
   "source": [
    "len(data_listed)"
   ]
  },
  {
   "cell_type": "code",
   "execution_count": 33,
   "metadata": {},
   "outputs": [
    {
     "data": {
      "text/plain": [
       "{'a': 4, 'b': 1.0, 'c': 19}"
      ]
     },
     "execution_count": 33,
     "metadata": {},
     "output_type": "execute_result"
    }
   ],
   "source": [
    "b = {'a': 4, 'b':3, 'c':19}\n",
    "sum(b.values())\n",
    "b['b'] /= 3\n",
    "b"
   ]
  },
  {
   "cell_type": "code",
   "execution_count": 54,
   "metadata": {},
   "outputs": [
    {
     "name": "stdout",
     "output_type": "stream",
     "text": [
      "sldkf\n",
      "295\n"
     ]
    },
    {
     "data": {
      "text/plain": [
       "0.29665787751645556"
      ]
     },
     "execution_count": 54,
     "metadata": {},
     "output_type": "execute_result"
    }
   ],
   "source": [
    "s.calc_quality(s.ants[-1].rule, s.calc_consequent(s.ants[-1].rule))"
   ]
  },
  {
   "cell_type": "code",
   "execution_count": null,
   "metadata": {
    "collapsed": true
   },
   "outputs": [],
   "source": []
  }
 ],
 "metadata": {
  "kernelspec": {
   "display_name": "Python 3",
   "language": "python",
   "name": "python3"
  },
  "language_info": {
   "codemirror_mode": {
    "name": "ipython",
    "version": 3
   },
   "file_extension": ".py",
   "mimetype": "text/x-python",
   "name": "python",
   "nbconvert_exporter": "python",
   "pygments_lexer": "ipython3",
   "version": "3.6.2"
  }
 },
 "nbformat": 4,
 "nbformat_minor": 2
}
